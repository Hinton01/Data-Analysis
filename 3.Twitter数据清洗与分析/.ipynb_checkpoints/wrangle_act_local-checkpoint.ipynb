{
 "cells": [
  {
   "cell_type": "markdown",
   "metadata": {},
   "source": [
    "# Twitter数据爬取，清洗与分析"
   ]
  },
  {
   "cell_type": "markdown",
   "metadata": {},
   "source": [
    "## 简介\n",
    "\n",
    "我们将要整理 (以及分析和可视化) 的数据集是推特用户 @dog_rates 的档案, 推特昵称为 WeRateDogs。他以诙谐幽默的方式对人们的宠物狗评分。这些评分通常以 10 作为分母。但是分子则一般大于 10：11/10、12/10、13/10 等等。\n",
    "\n",
    "WeRateDogs下载了他们的推特档案，并通过电子邮件发送给优达学城，专门为本项目使用。这个档案是基本的推特数据（推特 ID、时间戳、推特文本等），包含了截止到 2017 年 4 月 1 日的 5000 多条推特。\n",
    "\n",
    "\n",
    "### 目标\n",
    "清洗 WeRateDogs 推特数据，创建有趣且可靠的分析和可视化。<br/>\n",
    "（但是这份推特档案只包含基本的推特信息。所以还需要收集额外的数据。）<br/>\n",
    "<br/>\n",
    "我们在这个项目中的任务如下：<br/>\n",
    "数据整理，其中包括：<br/>\n",
    "收集数据，评估数据，清洗数据。<br/>\n",
    "对清洗过的数据进行储存、分析和可视化。<br/>\n",
    "书面报告 (1) 数据整理工作 (2) 数据分析和可视化<br/>\n",
    "\n",
    "\n",
    "### 步骤与细节\n",
    "\n",
    "#### 1.数据收集\n",
    "收集下面所述的三份数据：<br/>\n",
    "\n",
    "1. WeRateDogs 的推特档案。这个数据文件是直接提供的，详见twitter_archive_enhanced.csv。\n",
    "2. 推特图像的预测数据，这个文件你需要使用 Python 的 Requests 库和以下提供的 URL 来进行编程下载。\n",
    "3. 每条推特的额外附加数据，要包含转发数（retweet_count）和喜欢数（favorite_count）这两列。推荐使用Twitter API。\n",
    "\n",
    "\n",
    "#### 2.数据评估\n",
    "收集上述三个数据集之后，使用目测评估和编程评估的方式，对数据进行质量和清洁度的评估。<br/>\n",
    "完整地评估和清理整个数据集将需要大量时间，出于学习和实践的考虑，本项目只是评估和清理此数据集中的8个质量问题和2个整洁度问题。<br/>\n",
    "\n",
    "#### 3.数据清洗\n",
    "对你在评估时列出的每个问题进行清洗。展示清洗的过程,结果应该为一个优质干净整洁的主数据集（pandas DataFrame 类型）<br/>\n",
    "根据整洁数据的规则要求，本项目的数据清理应该包括将三个数据片段进行合并。<br/>\n",
    "\n",
    "#### 4.对项目数据进行存储、分析和可视化\n",
    "将清理后的数据集存储到 CSV 文件中，命名为 twitter_archive_master.csv。如果有其他观察对象的数据集存在，需要多个表格，那么要给这些文件合理命名。<br/>\n",
    "对清洗后的数据进行分析和可视化。生成至少 3 个见解和 1 个可视化。\n",
    "\n",
    "\n",
    "#### 5.项目汇报\n",
    "创建一个 300-600 字的书面报告，命名为 wrangle_report.pdf，在该报告中简要描述你的数据整理过程。这份报告可以看作是一份内部文档，供你的团队成员查看交流。<br/>\n",
    "\n",
    "创建一个 250 字以上的书面报告，命名为 act_report.pdf，在该报告中，你可以与读者交流观点，展示你使用整理过的数据生成的可视化图表。这份报告可以看作是一份外部文档，如博客帖子或杂志文章。<br/>\n",
    "\n",
    "#### 细节：\n",
    "\n",
    "我们只需要含有图片的原始评级 (不包括转发)。尽管数据集中有 5000 多条数据，但是并不是所有都是狗狗评分，并且其中有一些是转发。<br/>\n",
    "如果分子评级超过分母评级，不需要进行清洗。这个 特殊评分系统 是 WeRateDogs 人气度较高的主要原因。（同样，也不需要删除分子小于分母的数据）<br/>\n",
    "不必收集 2017 年 8 月 1 日之后的数据，你可以收集到这些推特的基本信息，但是你不能收集到这些推特对应的图像预测数据，因为你没有图像预测算法的使用权限。<br/>\n",
    "不要在项目提交中包含你的推特 API 密钥和访问令牌（可以用 * 号代替）。\n",
    "\n"
   ]
  },
  {
   "cell_type": "markdown",
   "metadata": {},
   "source": [
    "### 以下我们开始进行具体操作\n",
    "### 数据收集"
   ]
  },
  {
   "cell_type": "code",
   "execution_count": 1,
   "metadata": {},
   "outputs": [],
   "source": [
    "#导入所需的包\n",
    "import pandas as pd\n",
    "import numpy as np\n",
    "import requests\n",
    "import json\n",
    "import os"
   ]
  },
  {
   "cell_type": "code",
   "execution_count": 2,
   "metadata": {},
   "outputs": [],
   "source": [
    "#解决数据展示时被折叠的问题\n",
    "pd.set_option('display.max_columns', None)\n",
    "pd.set_option('display.max_rows', None)\n",
    "pd.set_option('max_colwidth',150)"
   ]
  },
  {
   "cell_type": "code",
   "execution_count": 3,
   "metadata": {},
   "outputs": [],
   "source": [
    "# 1.读取WeRateDogs的推特档案\n",
    "df  = pd.read_csv('twitter-archive-enhanced.csv')"
   ]
  },
  {
   "cell_type": "code",
   "execution_count": 4,
   "metadata": {},
   "outputs": [],
   "source": [
    "# 2.使用Python的Requests库和提供的URL来进行编程下载推特图像的预测数据\n",
    "url          = 'https://raw.githubusercontent.com/udacity/new-dand-advanced-china/master/%E6%95%B0%E6%8D%AE%E6%B8%85%E6%B4%97/WeRateDogs%E9%A1%B9%E7%9B%AE/image-predictions.tsv'\n",
    "predict_file = url.split('/')[-1]\n",
    "response     = requests.get(url)\n",
    "\n",
    "# 防止文件多次加载\n",
    "if not os.path.exists(predict_file):\n",
    "    with open(predict_file, mode ='wb') as file:\n",
    "        file.write(response.content)\n",
    "        \n",
    "img_predictions = pd.read_csv(predict_file, sep = '\\t')   "
   ]
  },
  {
   "cell_type": "code",
   "execution_count": 5,
   "metadata": {},
   "outputs": [],
   "source": [
    "# 3.加载每条推特的额外附加数据，包含转发数（retweet_count）和喜欢数（favorite_count）这两列\n",
    "list_extra   = []\n",
    "with open('tweet_json.txt', 'r') as file_extra: \n",
    "    for line in file_extra.readlines():\n",
    "\n",
    "        data           = json.loads(line)\n",
    "        tweet_id       = data['id']\n",
    "        retweet_count  = data['retweet_count']\n",
    "        favorite_count = data['favorite_count']\n",
    "\n",
    "        list_extra.append({\n",
    "            'tweet_id': tweet_id,\n",
    "            'retweet_count' : retweet_count,\n",
    "            'favorite_count': favorite_count\n",
    "        })\n",
    "\n",
    "\n",
    "df_extra = pd.DataFrame(list_extra, columns = ['tweet_id', 'retweet_count', 'favorite_count'])"
   ]
  },
  {
   "cell_type": "markdown",
   "metadata": {},
   "source": [
    "### 数据评估"
   ]
  },
  {
   "cell_type": "code",
   "execution_count": null,
   "metadata": {},
   "outputs": [],
   "source": [
    "df.info()"
   ]
  },
  {
   "cell_type": "code",
   "execution_count": null,
   "metadata": {},
   "outputs": [],
   "source": [
    "df.head()"
   ]
  },
  {
   "cell_type": "code",
   "execution_count": null,
   "metadata": {},
   "outputs": [],
   "source": [
    "df['source'].value_counts()"
   ]
  },
  {
   "cell_type": "code",
   "execution_count": null,
   "metadata": {},
   "outputs": [],
   "source": [
    "df['name'].value_counts()"
   ]
  },
  {
   "cell_type": "code",
   "execution_count": null,
   "metadata": {},
   "outputs": [],
   "source": [
    "df['text'].sample(3)"
   ]
  },
  {
   "cell_type": "code",
   "execution_count": null,
   "metadata": {},
   "outputs": [],
   "source": [
    "df['timestamp'].sample(5)"
   ]
  },
  {
   "cell_type": "code",
   "execution_count": null,
   "metadata": {
    "scrolled": false
   },
   "outputs": [],
   "source": [
    "df['doggo'].value_counts()"
   ]
  },
  {
   "cell_type": "code",
   "execution_count": null,
   "metadata": {},
   "outputs": [],
   "source": [
    "df[df['doggo'] != 'None'].sample(6)"
   ]
  },
  {
   "cell_type": "code",
   "execution_count": null,
   "metadata": {},
   "outputs": [],
   "source": [
    "img_predictions.info()"
   ]
  },
  {
   "cell_type": "code",
   "execution_count": null,
   "metadata": {},
   "outputs": [],
   "source": [
    "img_predictions.sample(5)"
   ]
  },
  {
   "cell_type": "code",
   "execution_count": null,
   "metadata": {},
   "outputs": [],
   "source": [
    "img_predictions[img_predictions['p2_conf'] > 1]"
   ]
  },
  {
   "cell_type": "code",
   "execution_count": null,
   "metadata": {},
   "outputs": [],
   "source": [
    "img_predictions['p3_dog'].value_counts() "
   ]
  },
  {
   "cell_type": "code",
   "execution_count": null,
   "metadata": {},
   "outputs": [],
   "source": [
    "df_extra.info()"
   ]
  },
  {
   "cell_type": "code",
   "execution_count": null,
   "metadata": {},
   "outputs": [],
   "source": [
    "df_extra.sample(5)"
   ]
  },
  {
   "cell_type": "code",
   "execution_count": null,
   "metadata": {},
   "outputs": [],
   "source": [
    "df_extra['tweet_id'].duplicated().sum()"
   ]
  },
  {
   "cell_type": "markdown",
   "metadata": {},
   "source": [
    "#### 数据质量问题\n",
    "##### 档案文件的质量问题\n",
    "<br/>\n",
    "\n",
    "推特档案数据：\n",
    "- 1.我们只需要含有图片的原始评级，存在转发的条目需要删除\n",
    "- 2.多列数据缺失严重\n",
    "- 3.source table: 数据需要提取，整理成Ipone客户端,Web客户端,VINE, tweet deck四个选项\n",
    "- 4.评分的提取不太准确\n",
    "- 5.name table: 有的name提取不正确\n",
    "- 6.timestamp table : 数据类型转换为时间类型\n",
    "- 7.有时同一条数据中， 含有多个狗的地位数据， 正常情况下只能有doggo，floofer，pupper，puppo 中的一个<br/>\n",
    "\n",
    "额外附加数据：\n",
    "- 8.我们需要将预测结果不是狗的数据删除，且p1的预测概率远远大于p2和p3, 含有p2,p3的数据列也需要删除"
   ]
  },
  {
   "cell_type": "markdown",
   "metadata": {},
   "source": [
    "##### 数据整洁度问题"
   ]
  },
  {
   "cell_type": "markdown",
   "metadata": {},
   "source": [
    "- 推特数据中，doggo，floofer，pupper，puppo栏应当删掉，建立新的地位栏，并填入每条所对应的'doggo\tfloofer\tpupper\tpuppo'其中一个.  \n",
    "- 三个文件需要合并到一个表格内，补充数据中的两个计数栏可以合并到推特数据中."
   ]
  },
  {
   "cell_type": "markdown",
   "metadata": {},
   "source": [
    "### 数据清洗"
   ]
  },
  {
   "cell_type": "code",
   "execution_count": 6,
   "metadata": {},
   "outputs": [],
   "source": [
    "# 对原数据进行复制， 在复制数据中进行数据清洗，从而保留原数据的完整性\n",
    "df_copy               = df.copy()\n",
    "img_predictions_copy  = img_predictions.copy()\n",
    "df_extra_copy         = df_extra.copy()"
   ]
  },
  {
   "cell_type": "markdown",
   "metadata": {},
   "source": [
    "### 1. 我们只需要含有图片的原始评级，存在转发的条目需要删除"
   ]
  },
  {
   "cell_type": "markdown",
   "metadata": {},
   "source": [
    "#### 如果retweeted_status_id, retweeted_status_user_id, retweeted_status_timestamp这三列中有非空值，说明是转发推特, 我们需要将该行删除<br/><br/>我们将依次提取出与转发相关的三列为空的行，完成筛选后，将这三列删除<br/><br/>最后，我们需要删掉不含有图片的行"
   ]
  },
  {
   "cell_type": "code",
   "execution_count": 19,
   "metadata": {},
   "outputs": [
    {
     "data": {
      "text/html": [
       "<div>\n",
       "<style scoped>\n",
       "    .dataframe tbody tr th:only-of-type {\n",
       "        vertical-align: middle;\n",
       "    }\n",
       "\n",
       "    .dataframe tbody tr th {\n",
       "        vertical-align: top;\n",
       "    }\n",
       "\n",
       "    .dataframe thead th {\n",
       "        text-align: right;\n",
       "    }\n",
       "</style>\n",
       "<table border=\"1\" class=\"dataframe\">\n",
       "  <thead>\n",
       "    <tr style=\"text-align: right;\">\n",
       "      <th></th>\n",
       "      <th>retweeted_status_id</th>\n",
       "      <th>retweeted_status_user_id</th>\n",
       "      <th>retweeted_status_timestamp</th>\n",
       "    </tr>\n",
       "  </thead>\n",
       "  <tbody>\n",
       "    <tr>\n",
       "      <th>285</th>\n",
       "      <td>8.389060e+17</td>\n",
       "      <td>8.117408e+08</td>\n",
       "      <td>2017-03-07 00:15:46 +0000</td>\n",
       "    </tr>\n",
       "    <tr>\n",
       "      <th>646</th>\n",
       "      <td>NaN</td>\n",
       "      <td>NaN</td>\n",
       "      <td>NaN</td>\n",
       "    </tr>\n",
       "    <tr>\n",
       "      <th>434</th>\n",
       "      <td>8.203146e+17</td>\n",
       "      <td>4.196984e+09</td>\n",
       "      <td>2017-01-14 17:00:24 +0000</td>\n",
       "    </tr>\n",
       "    <tr>\n",
       "      <th>634</th>\n",
       "      <td>7.916723e+17</td>\n",
       "      <td>4.196984e+09</td>\n",
       "      <td>2016-10-27 16:06:04 +0000</td>\n",
       "    </tr>\n",
       "    <tr>\n",
       "      <th>1634</th>\n",
       "      <td>NaN</td>\n",
       "      <td>NaN</td>\n",
       "      <td>NaN</td>\n",
       "    </tr>\n",
       "  </tbody>\n",
       "</table>\n",
       "</div>"
      ],
      "text/plain": [
       "      retweeted_status_id  retweeted_status_user_id retweeted_status_timestamp\n",
       "285          8.389060e+17              8.117408e+08  2017-03-07 00:15:46 +0000\n",
       "646                   NaN                       NaN                        NaN\n",
       "434          8.203146e+17              4.196984e+09  2017-01-14 17:00:24 +0000\n",
       "634          7.916723e+17              4.196984e+09  2016-10-27 16:06:04 +0000\n",
       "1634                  NaN                       NaN                        NaN"
      ]
     },
     "execution_count": 19,
     "metadata": {},
     "output_type": "execute_result"
    }
   ],
   "source": [
    "df_copy[['retweeted_status_id', 'retweeted_status_user_id', 'retweeted_status_timestamp']].sample(5)"
   ]
  },
  {
   "cell_type": "markdown",
   "metadata": {},
   "source": [
    "#### 定义：依次提取出与转发相关的三列为空的行 "
   ]
  },
  {
   "cell_type": "markdown",
   "metadata": {},
   "source": [
    "#### 代码："
   ]
  },
  {
   "cell_type": "code",
   "execution_count": 20,
   "metadata": {},
   "outputs": [],
   "source": [
    "df_copy = df_copy[df_copy['retweeted_status_id'].isna() == True]\n",
    "df_copy = df_copy[df_copy['retweeted_status_user_id'].isna() == True]\n",
    "df_copy = df_copy[df_copy['retweeted_status_timestamp'].isna() == True]"
   ]
  },
  {
   "cell_type": "markdown",
   "metadata": {},
   "source": [
    "#### 测试："
   ]
  },
  {
   "cell_type": "code",
   "execution_count": 21,
   "metadata": {},
   "outputs": [
    {
     "data": {
      "text/plain": [
       "Series([], Name: retweeted_status_id, dtype: int64)"
      ]
     },
     "execution_count": 21,
     "metadata": {},
     "output_type": "execute_result"
    }
   ],
   "source": [
    "df_copy['retweeted_status_id'].value_counts()"
   ]
  },
  {
   "cell_type": "code",
   "execution_count": 22,
   "metadata": {},
   "outputs": [
    {
     "data": {
      "text/plain": [
       "Series([], Name: retweeted_status_user_id, dtype: int64)"
      ]
     },
     "execution_count": 22,
     "metadata": {},
     "output_type": "execute_result"
    }
   ],
   "source": [
    "df_copy['retweeted_status_user_id'].value_counts()"
   ]
  },
  {
   "cell_type": "code",
   "execution_count": 23,
   "metadata": {},
   "outputs": [
    {
     "data": {
      "text/plain": [
       "Series([], Name: retweeted_status_timestamp, dtype: int64)"
      ]
     },
     "execution_count": 23,
     "metadata": {},
     "output_type": "execute_result"
    }
   ],
   "source": [
    "df_copy['retweeted_status_timestamp'].value_counts()"
   ]
  },
  {
   "cell_type": "markdown",
   "metadata": {},
   "source": [
    "此时，转发相关的三列，数据皆为空值"
   ]
  },
  {
   "cell_type": "markdown",
   "metadata": {},
   "source": [
    "#### 定义：删除与转发相关的列"
   ]
  },
  {
   "cell_type": "markdown",
   "metadata": {},
   "source": [
    "#### 代码："
   ]
  },
  {
   "cell_type": "code",
   "execution_count": 24,
   "metadata": {},
   "outputs": [],
   "source": [
    "df_copy.drop(['retweeted_status_id', 'retweeted_status_user_id', 'retweeted_status_timestamp'], axis=1, inplace=True)"
   ]
  },
  {
   "cell_type": "markdown",
   "metadata": {},
   "source": [
    "#### 测试："
   ]
  },
  {
   "cell_type": "code",
   "execution_count": 25,
   "metadata": {},
   "outputs": [
    {
     "name": "stdout",
     "output_type": "stream",
     "text": [
      "<class 'pandas.core.frame.DataFrame'>\n",
      "Int64Index: 2175 entries, 0 to 2355\n",
      "Data columns (total 14 columns):\n",
      "tweet_id                 2175 non-null int64\n",
      "in_reply_to_status_id    78 non-null float64\n",
      "in_reply_to_user_id      78 non-null float64\n",
      "timestamp                2175 non-null object\n",
      "source                   2175 non-null object\n",
      "text                     2175 non-null object\n",
      "expanded_urls            2117 non-null object\n",
      "rating_numerator         2175 non-null int64\n",
      "rating_denominator       2175 non-null int64\n",
      "name                     2175 non-null object\n",
      "doggo                    2175 non-null object\n",
      "floofer                  2175 non-null object\n",
      "pupper                   2175 non-null object\n",
      "puppo                    2175 non-null object\n",
      "dtypes: float64(2), int64(3), object(9)\n",
      "memory usage: 254.9+ KB\n"
     ]
    }
   ],
   "source": [
    "df_copy.info()"
   ]
  },
  {
   "cell_type": "markdown",
   "metadata": {},
   "source": [
    "此时，与转发相关的列已被删除"
   ]
  },
  {
   "cell_type": "markdown",
   "metadata": {},
   "source": [
    "#### 定义：删掉不含有图片的行"
   ]
  },
  {
   "cell_type": "markdown",
   "metadata": {},
   "source": [
    "#### 代码："
   ]
  },
  {
   "cell_type": "code",
   "execution_count": 26,
   "metadata": {},
   "outputs": [],
   "source": [
    "df_copy = df_copy[df_copy['expanded_urls'].isna() == False]"
   ]
  },
  {
   "cell_type": "code",
   "execution_count": 27,
   "metadata": {},
   "outputs": [],
   "source": [
    "# 我们在删除一些行之后， 重建df_copy的索引\n",
    "df_copy.reset_index(drop=True, inplace = True)"
   ]
  },
  {
   "cell_type": "markdown",
   "metadata": {},
   "source": [
    "#### 测试："
   ]
  },
  {
   "cell_type": "code",
   "execution_count": 28,
   "metadata": {},
   "outputs": [
    {
     "name": "stdout",
     "output_type": "stream",
     "text": [
      "<class 'pandas.core.frame.DataFrame'>\n",
      "RangeIndex: 2117 entries, 0 to 2116\n",
      "Data columns (total 14 columns):\n",
      "tweet_id                 2117 non-null int64\n",
      "in_reply_to_status_id    23 non-null float64\n",
      "in_reply_to_user_id      23 non-null float64\n",
      "timestamp                2117 non-null object\n",
      "source                   2117 non-null object\n",
      "text                     2117 non-null object\n",
      "expanded_urls            2117 non-null object\n",
      "rating_numerator         2117 non-null int64\n",
      "rating_denominator       2117 non-null int64\n",
      "name                     2117 non-null object\n",
      "doggo                    2117 non-null object\n",
      "floofer                  2117 non-null object\n",
      "pupper                   2117 non-null object\n",
      "puppo                    2117 non-null object\n",
      "dtypes: float64(2), int64(3), object(9)\n",
      "memory usage: 231.6+ KB\n"
     ]
    }
   ],
   "source": [
    "df_copy.info()"
   ]
  },
  {
   "cell_type": "markdown",
   "metadata": {},
   "source": [
    "此时我们的数据，expanded_urls列下都含有数据"
   ]
  },
  {
   "cell_type": "markdown",
   "metadata": {},
   "source": [
    "##### 2.多个列数据缺失严重"
   ]
  },
  {
   "cell_type": "markdown",
   "metadata": {},
   "source": [
    "#### 定义：有数据较多缺失的列与核心数据分析关联不大，故我将‘in_reply_to_status_id’，‘in_reply_to_user_id’列删掉"
   ]
  },
  {
   "cell_type": "markdown",
   "metadata": {},
   "source": [
    "#### 代码："
   ]
  },
  {
   "cell_type": "code",
   "execution_count": 29,
   "metadata": {},
   "outputs": [],
   "source": [
    "df_copy.drop(['in_reply_to_status_id', 'in_reply_to_user_id'], axis = 1, inplace = True)"
   ]
  },
  {
   "cell_type": "markdown",
   "metadata": {},
   "source": [
    "#### 测试："
   ]
  },
  {
   "cell_type": "code",
   "execution_count": 30,
   "metadata": {},
   "outputs": [
    {
     "name": "stdout",
     "output_type": "stream",
     "text": [
      "<class 'pandas.core.frame.DataFrame'>\n",
      "RangeIndex: 2117 entries, 0 to 2116\n",
      "Data columns (total 12 columns):\n",
      "tweet_id              2117 non-null int64\n",
      "timestamp             2117 non-null object\n",
      "source                2117 non-null object\n",
      "text                  2117 non-null object\n",
      "expanded_urls         2117 non-null object\n",
      "rating_numerator      2117 non-null int64\n",
      "rating_denominator    2117 non-null int64\n",
      "name                  2117 non-null object\n",
      "doggo                 2117 non-null object\n",
      "floofer               2117 non-null object\n",
      "pupper                2117 non-null object\n",
      "puppo                 2117 non-null object\n",
      "dtypes: int64(3), object(9)\n",
      "memory usage: 198.5+ KB\n"
     ]
    }
   ],
   "source": [
    "df_copy.info()"
   ]
  },
  {
   "cell_type": "markdown",
   "metadata": {},
   "source": [
    "经检验，此时数据比较完整"
   ]
  },
  {
   "cell_type": "markdown",
   "metadata": {},
   "source": [
    "##### 3. source栏数据需要提取成Ipone客户端,Web客户端,VINE, tweet deck四个选项"
   ]
  },
  {
   "cell_type": "code",
   "execution_count": 31,
   "metadata": {
    "scrolled": true
   },
   "outputs": [
    {
     "data": {
      "text/plain": [
       "<a href=\"http://twitter.com/download/iphone\" rel=\"nofollow\">Twitter for iPhone</a>     1985\n",
       "<a href=\"http://vine.co\" rel=\"nofollow\">Vine - Make a Scene</a>                          91\n",
       "<a href=\"http://twitter.com\" rel=\"nofollow\">Twitter Web Client</a>                       30\n",
       "<a href=\"https://about.twitter.com/products/tweetdeck\" rel=\"nofollow\">TweetDeck</a>      11\n",
       "Name: source, dtype: int64"
      ]
     },
     "execution_count": 31,
     "metadata": {},
     "output_type": "execute_result"
    }
   ],
   "source": [
    "df_copy['source'].value_counts()"
   ]
  },
  {
   "cell_type": "markdown",
   "metadata": {},
   "source": [
    "#### 定义：我们将标签Twitter for iPhone等从HTML格式内提取出来"
   ]
  },
  {
   "cell_type": "markdown",
   "metadata": {},
   "source": [
    "#### 代码："
   ]
  },
  {
   "cell_type": "code",
   "execution_count": 32,
   "metadata": {},
   "outputs": [],
   "source": [
    "df_copy['source'] = df_copy['source'].str.strip('</a>').str.split('>').str[1]"
   ]
  },
  {
   "cell_type": "markdown",
   "metadata": {},
   "source": [
    "#### 测试："
   ]
  },
  {
   "cell_type": "code",
   "execution_count": 33,
   "metadata": {
    "scrolled": true
   },
   "outputs": [
    {
     "data": {
      "text/plain": [
       "Twitter for iPhone     1985\n",
       "Vine - Make a Scene      91\n",
       "Twitter Web Client       30\n",
       "TweetDeck                11\n",
       "Name: source, dtype: int64"
      ]
     },
     "execution_count": 33,
     "metadata": {},
     "output_type": "execute_result"
    }
   ],
   "source": [
    "df_copy['source'].value_counts()"
   ]
  },
  {
   "cell_type": "markdown",
   "metadata": {},
   "source": [
    "成功提取出文字选项"
   ]
  },
  {
   "cell_type": "markdown",
   "metadata": {},
   "source": [
    "##### 4. 评分提取不太准确"
   ]
  },
  {
   "cell_type": "code",
   "execution_count": 34,
   "metadata": {},
   "outputs": [
    {
     "data": {
      "text/plain": [
       "10     2099\n",
       "50        3\n",
       "11        2\n",
       "80        2\n",
       "7         1\n",
       "170       1\n",
       "150       1\n",
       "130       1\n",
       "120       1\n",
       "110       1\n",
       "90        1\n",
       "70        1\n",
       "40        1\n",
       "20        1\n",
       "2         1\n",
       "Name: rating_denominator, dtype: int64"
      ]
     },
     "execution_count": 34,
     "metadata": {},
     "output_type": "execute_result"
    }
   ],
   "source": [
    "df_copy['rating_denominator'].value_counts()"
   ]
  },
  {
   "cell_type": "markdown",
   "metadata": {},
   "source": [
    "#### 定义：两栏的特殊值统计全是整数，未能提取text中浮点数评分， 我们重新建立新的提取规则"
   ]
  },
  {
   "cell_type": "markdown",
   "metadata": {},
   "source": [
    "#### 代码："
   ]
  },
  {
   "cell_type": "code",
   "execution_count": 35,
   "metadata": {},
   "outputs": [],
   "source": [
    "numerator_ratings   = df_copy['text'].str.extract(r'((\\d+(\\.\\d+)?\\/))', expand=True)[0].str.strip('/')"
   ]
  },
  {
   "cell_type": "code",
   "execution_count": 36,
   "metadata": {},
   "outputs": [],
   "source": [
    "denominator_ratings = df_copy['text'].str.extract(r'((\\/\\d+(\\.\\d+)?))', expand=True)[0].str.strip('/')"
   ]
  },
  {
   "cell_type": "code",
   "execution_count": 37,
   "metadata": {},
   "outputs": [],
   "source": [
    "df_copy.loc[:, ['rating_numerator']]   = numerator_ratings"
   ]
  },
  {
   "cell_type": "code",
   "execution_count": 38,
   "metadata": {},
   "outputs": [],
   "source": [
    "df_copy.loc[:, ['rating_denominator']] = denominator_ratings"
   ]
  },
  {
   "cell_type": "code",
   "execution_count": 39,
   "metadata": {},
   "outputs": [],
   "source": [
    "# 把评分两栏从字符串类型 转化为浮点数类\n",
    "df_copy[['rating_numerator', 'rating_denominator']] = df_copy[['rating_numerator', 'rating_denominator']].astype('float')"
   ]
  },
  {
   "cell_type": "markdown",
   "metadata": {},
   "source": [
    "#### 测试："
   ]
  },
  {
   "cell_type": "code",
   "execution_count": 40,
   "metadata": {},
   "outputs": [
    {
     "data": {
      "text/plain": [
       "12.00      489\n",
       "10.00      436\n",
       "11.00      417\n",
       "13.00      295\n",
       "9.00       154\n",
       "8.00        98\n",
       "7.00        52\n",
       "14.00       40\n",
       "5.00        33\n",
       "6.00        32\n",
       "3.00        19\n",
       "4.00        16\n",
       "2.00         9\n",
       "1.00         5\n",
       "0.00         2\n",
       "13.50        1\n",
       "24.00        1\n",
       "84.00        1\n",
       "143.00       1\n",
       "50.00        1\n",
       "420.00       1\n",
       "60.00        1\n",
       "44.00        1\n",
       "144.00       1\n",
       "88.00        1\n",
       "11.26        1\n",
       "11.27        1\n",
       "121.00       1\n",
       "9.75         1\n",
       "99.00        1\n",
       "204.00       1\n",
       "45.00        1\n",
       "165.00       1\n",
       "1776.00      1\n",
       "80.00        1\n",
       "Name: rating_numerator, dtype: int64"
      ]
     },
     "execution_count": 40,
     "metadata": {},
     "output_type": "execute_result"
    }
   ],
   "source": [
    "df_copy['rating_numerator'].value_counts()"
   ]
  },
  {
   "cell_type": "code",
   "execution_count": 41,
   "metadata": {},
   "outputs": [
    {
     "data": {
      "text/plain": [
       "10.0     2099\n",
       "50.0        3\n",
       "80.0        2\n",
       "11.0        2\n",
       "150.0       1\n",
       "110.0       1\n",
       "90.0        1\n",
       "130.0       1\n",
       "70.0        1\n",
       "170.0       1\n",
       "2.0         1\n",
       "120.0       1\n",
       "40.0        1\n",
       "20.0        1\n",
       "7.0         1\n",
       "Name: rating_denominator, dtype: int64"
      ]
     },
     "execution_count": 41,
     "metadata": {},
     "output_type": "execute_result"
    }
   ],
   "source": [
    "df_copy['rating_denominator'].value_counts()"
   ]
  },
  {
   "cell_type": "markdown",
   "metadata": {},
   "source": [
    "提取浮点数成功"
   ]
  },
  {
   "cell_type": "markdown",
   "metadata": {},
   "source": [
    "#### 定义：对分母不为10的行进行与text中原数据比对，校正"
   ]
  },
  {
   "cell_type": "markdown",
   "metadata": {},
   "source": [
    "#### 代码："
   ]
  },
  {
   "cell_type": "code",
   "execution_count": 42,
   "metadata": {},
   "outputs": [
    {
     "data": {
      "text/html": [
       "<div>\n",
       "<style scoped>\n",
       "    .dataframe tbody tr th:only-of-type {\n",
       "        vertical-align: middle;\n",
       "    }\n",
       "\n",
       "    .dataframe tbody tr th {\n",
       "        vertical-align: top;\n",
       "    }\n",
       "\n",
       "    .dataframe thead th {\n",
       "        text-align: right;\n",
       "    }\n",
       "</style>\n",
       "<table border=\"1\" class=\"dataframe\">\n",
       "  <thead>\n",
       "    <tr style=\"text-align: right;\">\n",
       "      <th></th>\n",
       "      <th>tweet_id</th>\n",
       "      <th>timestamp</th>\n",
       "      <th>source</th>\n",
       "      <th>text</th>\n",
       "      <th>expanded_urls</th>\n",
       "      <th>rating_numerator</th>\n",
       "      <th>rating_denominator</th>\n",
       "      <th>name</th>\n",
       "      <th>doggo</th>\n",
       "      <th>floofer</th>\n",
       "      <th>pupper</th>\n",
       "      <th>puppo</th>\n",
       "    </tr>\n",
       "  </thead>\n",
       "  <tbody>\n",
       "    <tr>\n",
       "      <th>2096</th>\n",
       "      <td>666287406224695296</td>\n",
       "      <td>2015-11-16 16:11:11 +0000</td>\n",
       "      <td>Twitter for iPhone</td>\n",
       "      <td>This is an Albanian 3 1/2 legged  Episcopalian. Loves well-polished hardwood flooring. Penis on the collar. 9/10 https://t.co/d9NcXFKwLv</td>\n",
       "      <td>https://twitter.com/dog_rates/status/666287406224695296/photo/1</td>\n",
       "      <td>1.0</td>\n",
       "      <td>2.0</td>\n",
       "      <td>an</td>\n",
       "      <td>None</td>\n",
       "      <td>None</td>\n",
       "      <td>None</td>\n",
       "      <td>None</td>\n",
       "    </tr>\n",
       "  </tbody>\n",
       "</table>\n",
       "</div>"
      ],
      "text/plain": [
       "                tweet_id                  timestamp              source  \\\n",
       "2096  666287406224695296  2015-11-16 16:11:11 +0000  Twitter for iPhone   \n",
       "\n",
       "                                                                                                                                          text  \\\n",
       "2096  This is an Albanian 3 1/2 legged  Episcopalian. Loves well-polished hardwood flooring. Penis on the collar. 9/10 https://t.co/d9NcXFKwLv   \n",
       "\n",
       "                                                        expanded_urls  \\\n",
       "2096  https://twitter.com/dog_rates/status/666287406224695296/photo/1   \n",
       "\n",
       "      rating_numerator  rating_denominator name doggo floofer pupper puppo  \n",
       "2096               1.0                 2.0   an  None    None   None  None  "
      ]
     },
     "execution_count": 42,
     "metadata": {},
     "output_type": "execute_result"
    }
   ],
   "source": [
    "df_copy[df_copy['rating_denominator'] == 2]"
   ]
  },
  {
   "cell_type": "code",
   "execution_count": 43,
   "metadata": {},
   "outputs": [
    {
     "data": {
      "text/html": [
       "<div>\n",
       "<style scoped>\n",
       "    .dataframe tbody tr th:only-of-type {\n",
       "        vertical-align: middle;\n",
       "    }\n",
       "\n",
       "    .dataframe tbody tr th {\n",
       "        vertical-align: top;\n",
       "    }\n",
       "\n",
       "    .dataframe thead th {\n",
       "        text-align: right;\n",
       "    }\n",
       "</style>\n",
       "<table border=\"1\" class=\"dataframe\">\n",
       "  <thead>\n",
       "    <tr style=\"text-align: right;\">\n",
       "      <th></th>\n",
       "      <th>tweet_id</th>\n",
       "      <th>timestamp</th>\n",
       "      <th>source</th>\n",
       "      <th>text</th>\n",
       "      <th>expanded_urls</th>\n",
       "      <th>rating_numerator</th>\n",
       "      <th>rating_denominator</th>\n",
       "      <th>name</th>\n",
       "      <th>doggo</th>\n",
       "      <th>floofer</th>\n",
       "      <th>pupper</th>\n",
       "      <th>puppo</th>\n",
       "    </tr>\n",
       "  </thead>\n",
       "  <tbody>\n",
       "    <tr>\n",
       "      <th>405</th>\n",
       "      <td>810984652412424192</td>\n",
       "      <td>2016-12-19 23:06:23 +0000</td>\n",
       "      <td>Twitter for iPhone</td>\n",
       "      <td>Meet Sam. She smiles 24/7 &amp;amp; secretly aspires to be a reindeer. \\nKeep Sam smiling by clicking and sharing this link:\\nhttps://t.co/98tB8y7y7t ...</td>\n",
       "      <td>https://www.gofundme.com/sams-smile,https://twitter.com/dog_rates/status/810984652412424192/photo/1</td>\n",
       "      <td>24.0</td>\n",
       "      <td>7.0</td>\n",
       "      <td>Sam</td>\n",
       "      <td>None</td>\n",
       "      <td>None</td>\n",
       "      <td>None</td>\n",
       "      <td>None</td>\n",
       "    </tr>\n",
       "  </tbody>\n",
       "</table>\n",
       "</div>"
      ],
      "text/plain": [
       "               tweet_id                  timestamp              source  \\\n",
       "405  810984652412424192  2016-12-19 23:06:23 +0000  Twitter for iPhone   \n",
       "\n",
       "                                                                                                                                                      text  \\\n",
       "405  Meet Sam. She smiles 24/7 &amp; secretly aspires to be a reindeer. \\nKeep Sam smiling by clicking and sharing this link:\\nhttps://t.co/98tB8y7y7t ...   \n",
       "\n",
       "                                                                                           expanded_urls  \\\n",
       "405  https://www.gofundme.com/sams-smile,https://twitter.com/dog_rates/status/810984652412424192/photo/1   \n",
       "\n",
       "     rating_numerator  rating_denominator name doggo floofer pupper puppo  \n",
       "405              24.0                 7.0  Sam  None    None   None  None  "
      ]
     },
     "execution_count": 43,
     "metadata": {},
     "output_type": "execute_result"
    }
   ],
   "source": [
    "df_copy[df_copy['rating_denominator'] == 7]"
   ]
  },
  {
   "cell_type": "code",
   "execution_count": 44,
   "metadata": {},
   "outputs": [
    {
     "data": {
      "text/html": [
       "<div>\n",
       "<style scoped>\n",
       "    .dataframe tbody tr th:only-of-type {\n",
       "        vertical-align: middle;\n",
       "    }\n",
       "\n",
       "    .dataframe tbody tr th {\n",
       "        vertical-align: top;\n",
       "    }\n",
       "\n",
       "    .dataframe thead th {\n",
       "        text-align: right;\n",
       "    }\n",
       "</style>\n",
       "<table border=\"1\" class=\"dataframe\">\n",
       "  <thead>\n",
       "    <tr style=\"text-align: right;\">\n",
       "      <th></th>\n",
       "      <th>tweet_id</th>\n",
       "      <th>timestamp</th>\n",
       "      <th>source</th>\n",
       "      <th>text</th>\n",
       "      <th>expanded_urls</th>\n",
       "      <th>rating_numerator</th>\n",
       "      <th>rating_denominator</th>\n",
       "      <th>name</th>\n",
       "      <th>doggo</th>\n",
       "      <th>floofer</th>\n",
       "      <th>pupper</th>\n",
       "      <th>puppo</th>\n",
       "    </tr>\n",
       "  </thead>\n",
       "  <tbody>\n",
       "    <tr>\n",
       "      <th>990</th>\n",
       "      <td>716439118184652801</td>\n",
       "      <td>2016-04-03 01:36:11 +0000</td>\n",
       "      <td>Twitter for iPhone</td>\n",
       "      <td>This is Bluebert. He just saw that both #FinalFur match ups are split 50/50. Amazed af. 11/10 https://t.co/Kky1DPG4iq</td>\n",
       "      <td>https://twitter.com/dog_rates/status/716439118184652801/photo/1</td>\n",
       "      <td>50.0</td>\n",
       "      <td>50.0</td>\n",
       "      <td>Bluebert</td>\n",
       "      <td>None</td>\n",
       "      <td>None</td>\n",
       "      <td>None</td>\n",
       "      <td>None</td>\n",
       "    </tr>\n",
       "    <tr>\n",
       "      <th>1061</th>\n",
       "      <td>709198395643068416</td>\n",
       "      <td>2016-03-14 02:04:08 +0000</td>\n",
       "      <td>Twitter for iPhone</td>\n",
       "      <td>From left to right:\\nCletus, Jerome, Alejandro, Burp, &amp;amp; Titson\\nNone know where camera is. 45/50 would hug all at once https://t.co/sedre1ivTK</td>\n",
       "      <td>https://twitter.com/dog_rates/status/709198395643068416/photo/1</td>\n",
       "      <td>45.0</td>\n",
       "      <td>50.0</td>\n",
       "      <td>None</td>\n",
       "      <td>None</td>\n",
       "      <td>None</td>\n",
       "      <td>None</td>\n",
       "      <td>None</td>\n",
       "    </tr>\n",
       "    <tr>\n",
       "      <th>1136</th>\n",
       "      <td>704054845121142784</td>\n",
       "      <td>2016-02-28 21:25:30 +0000</td>\n",
       "      <td>Twitter for iPhone</td>\n",
       "      <td>Here is a whole flock of puppers.  60/50 I'll take the lot https://t.co/9dpcw6MdWa</td>\n",
       "      <td>https://twitter.com/dog_rates/status/704054845121142784/photo/1</td>\n",
       "      <td>60.0</td>\n",
       "      <td>50.0</td>\n",
       "      <td>a</td>\n",
       "      <td>None</td>\n",
       "      <td>None</td>\n",
       "      <td>None</td>\n",
       "      <td>None</td>\n",
       "    </tr>\n",
       "  </tbody>\n",
       "</table>\n",
       "</div>"
      ],
      "text/plain": [
       "                tweet_id                  timestamp              source  \\\n",
       "990   716439118184652801  2016-04-03 01:36:11 +0000  Twitter for iPhone   \n",
       "1061  709198395643068416  2016-03-14 02:04:08 +0000  Twitter for iPhone   \n",
       "1136  704054845121142784  2016-02-28 21:25:30 +0000  Twitter for iPhone   \n",
       "\n",
       "                                                                                                                                                    text  \\\n",
       "990                                This is Bluebert. He just saw that both #FinalFur match ups are split 50/50. Amazed af. 11/10 https://t.co/Kky1DPG4iq   \n",
       "1061  From left to right:\\nCletus, Jerome, Alejandro, Burp, &amp; Titson\\nNone know where camera is. 45/50 would hug all at once https://t.co/sedre1ivTK   \n",
       "1136                                                                  Here is a whole flock of puppers.  60/50 I'll take the lot https://t.co/9dpcw6MdWa   \n",
       "\n",
       "                                                        expanded_urls  \\\n",
       "990   https://twitter.com/dog_rates/status/716439118184652801/photo/1   \n",
       "1061  https://twitter.com/dog_rates/status/709198395643068416/photo/1   \n",
       "1136  https://twitter.com/dog_rates/status/704054845121142784/photo/1   \n",
       "\n",
       "      rating_numerator  rating_denominator      name doggo floofer pupper  \\\n",
       "990               50.0                50.0  Bluebert  None    None   None   \n",
       "1061              45.0                50.0      None  None    None   None   \n",
       "1136              60.0                50.0         a  None    None   None   \n",
       "\n",
       "     puppo  \n",
       "990   None  \n",
       "1061  None  \n",
       "1136  None  "
      ]
     },
     "execution_count": 44,
     "metadata": {},
     "output_type": "execute_result"
    }
   ],
   "source": [
    "df_copy[df_copy['rating_denominator'] == 50]"
   ]
  },
  {
   "cell_type": "code",
   "execution_count": 45,
   "metadata": {},
   "outputs": [],
   "source": [
    "#手动修改几个提取错误的值\n",
    "df_copy.iloc[2096,5:7] = 9, 10\n",
    "df_copy.iloc[405,5:7]  = 0, 0\n",
    "df_copy.iloc[990,5:7]  = 11, 10"
   ]
  },
  {
   "cell_type": "markdown",
   "metadata": {},
   "source": [
    "#### 测试："
   ]
  },
  {
   "cell_type": "code",
   "execution_count": 46,
   "metadata": {},
   "outputs": [
    {
     "data": {
      "text/plain": [
       "rating_numerator       9\n",
       "rating_denominator    10\n",
       "Name: 2096, dtype: object"
      ]
     },
     "execution_count": 46,
     "metadata": {},
     "output_type": "execute_result"
    }
   ],
   "source": [
    "# 查看修改后的值，已无误\n",
    "df_copy.iloc[2096, 5:7]"
   ]
  },
  {
   "cell_type": "code",
   "execution_count": 47,
   "metadata": {},
   "outputs": [
    {
     "data": {
      "text/plain": [
       "9.0"
      ]
     },
     "execution_count": 47,
     "metadata": {},
     "output_type": "execute_result"
    }
   ],
   "source": [
    "df_copy.iloc[2096, 5]"
   ]
  },
  {
   "cell_type": "markdown",
   "metadata": {},
   "source": [
    "此时，评分两栏的清洗基本完成"
   ]
  },
  {
   "cell_type": "markdown",
   "metadata": {},
   "source": [
    "##### 5. name table: 有的name提取不正确"
   ]
  },
  {
   "cell_type": "code",
   "execution_count": 48,
   "metadata": {},
   "outputs": [
    {
     "data": {
      "text/plain": [
       "None              622\n",
       "a                  55\n",
       "Charlie            11\n",
       "Lucy               11\n",
       "Oliver             10\n",
       "Cooper             10\n",
       "Tucker              9\n",
       "Penny               9\n",
       "Sadie               8\n",
       "Lola                8\n",
       "the                 8\n",
       "Winston             8\n",
       "Toby                7\n",
       "Daisy               7\n",
       "an                  6\n",
       "Bella               6\n",
       "Jax                 6\n",
       "Koda                6\n",
       "Stanley             6\n",
       "Bailey              6\n",
       "Oscar               6\n",
       "Bo                  6\n",
       "Dave                5\n",
       "Bentley             5\n",
       "Scout               5\n",
       "Rusty               5\n",
       "Louis               5\n",
       "Leo                 5\n",
       "Buddy               5\n",
       "Chester             5\n",
       "Milo                5\n",
       "Sammy               4\n",
       "Larry               4\n",
       "Finn                4\n",
       "Jerry               4\n",
       "Scooter             4\n",
       "Gary                4\n",
       "Duke                4\n",
       "Reggie              4\n",
       "Brody               4\n",
       "Oakley              4\n",
       "Cassie              4\n",
       "Chip                4\n",
       "one                 4\n",
       "Winnie              4\n",
       "Sophie              4\n",
       "Clark               4\n",
       "Jeffrey             4\n",
       "Derek               4\n",
       "Maggie              4\n",
       "Dexter              4\n",
       "Clarence            4\n",
       "Phil                4\n",
       "Alfie               4\n",
       "George              4\n",
       "Gus                 4\n",
       "very                4\n",
       "Archie              4\n",
       "Boomer              4\n",
       "Jack                4\n",
       "Bear                4\n",
       "Sebastian           3\n",
       "Reginald            3\n",
       "Steven              3\n",
       "Wallace             3\n",
       "Walter              3\n",
       "Sunny               3\n",
       "Hank                3\n",
       "Reese               3\n",
       "Riley               3\n",
       "Zeke                3\n",
       "Zoey                3\n",
       "Moose               3\n",
       "Rosie               3\n",
       "Maximus             3\n",
       "Earl                3\n",
       "Vincent             3\n",
       "Ted                 3\n",
       "Wilson              3\n",
       "Gizmo               3\n",
       "Doug                3\n",
       "Ruby                3\n",
       "Nala                3\n",
       "Otis                3\n",
       "Jimothy             3\n",
       "Shadow              3\n",
       "Klevin              3\n",
       "just                3\n",
       "Samson              3\n",
       "Beau                3\n",
       "Louie               3\n",
       "Loki                3\n",
       "Bruce               3\n",
       "Lily                3\n",
       "Calvin              3\n",
       "Gerald              3\n",
       "Waffles             3\n",
       "Olive               3\n",
       "Carl                3\n",
       "Luna                3\n",
       "quite               3\n",
       "Mia                 3\n",
       "Wyatt               3\n",
       "Malcolm             3\n",
       "Kyle                3\n",
       "Max                 3\n",
       "Ellie               3\n",
       "Yogi                2\n",
       "Ollie               2\n",
       "Watson              2\n",
       "Atticus             2\n",
       "Jackson             2\n",
       "Hammond             2\n",
       "Chet                2\n",
       "Raymond             2\n",
       "Maxaroni            2\n",
       "Trooper             2\n",
       "Ava                 2\n",
       "Tyr                 2\n",
       "Ozzy                2\n",
       "Odie                2\n",
       "Churlie             2\n",
       "Baxter              2\n",
       "Sampson             2\n",
       "Marley              2\n",
       "Hobbes              2\n",
       "Remington           2\n",
       "Sam                 2\n",
       "Albus               2\n",
       "Peaches             2\n",
       "Phred               2\n",
       "Solomon             2\n",
       "Cody                2\n",
       "Lincoln             2\n",
       "Dash                2\n",
       "Frankie             2\n",
       "Colby               2\n",
       "Lennon              2\n",
       "Albert              2\n",
       "Axel                2\n",
       "Chipson             2\n",
       "Opal                2\n",
       "Paisley             2\n",
       "Arnie               2\n",
       "Franklin            2\n",
       "Sansa               2\n",
       "Finley              2\n",
       "Abby                2\n",
       "Linda               2\n",
       "Benedict            2\n",
       "Dakota              2\n",
       "Pippa               2\n",
       "Rory                2\n",
       "Lou                 2\n",
       "Keurig              2\n",
       "Hunter              2\n",
       "Piper               2\n",
       "Eli                 2\n",
       "Phineas             2\n",
       "Rocky               2\n",
       "Kilo                2\n",
       "Sandy               2\n",
       "Romeo               2\n",
       "Kevin               2\n",
       "Cupcake             2\n",
       "getting             2\n",
       "Django              2\n",
       "Doc                 2\n",
       "Benji               2\n",
       "Charles             2\n",
       "Coco                2\n",
       "Cash                2\n",
       "Belle               2\n",
       "Theodore            2\n",
       "Patrick             2\n",
       "Curtis              2\n",
       "Keith               2\n",
       "Smokey              2\n",
       "Flávio              2\n",
       "Rufus               2\n",
       "Maddie              2\n",
       "Bob                 2\n",
       "Calbert             2\n",
       "Fred                2\n",
       "Panda               2\n",
       "Fiona               2\n",
       "Roosevelt           2\n",
       "Blitz               2\n",
       "Wally               2\n",
       "Griffin             2\n",
       "Jiminy              2\n",
       "Terry               2\n",
       "Rocco               2\n",
       "Alice               2\n",
       "Herm                2\n",
       "Ash                 2\n",
       "Luca                2\n",
       "Neptune             2\n",
       "Lenny               2\n",
       "CeCe                2\n",
       "Indie               2\n",
       "Coops               2\n",
       "Kirby               2\n",
       "Sarge               2\n",
       "Elliot              2\n",
       "Lorenzo             2\n",
       "Bisquick            2\n",
       "Mister              2\n",
       "Frank               2\n",
       "Pickles             2\n",
       "Kreg                2\n",
       "Atlas               2\n",
       "Crystal             2\n",
       "Herald              2\n",
       "Chuckles            2\n",
       "Bubbles             2\n",
       "Jesse               2\n",
       "Kreggory            2\n",
       "Thumas              2\n",
       "Kenneth             2\n",
       "Juno                2\n",
       "Penelope            2\n",
       "Bernie              2\n",
       "Layla               2\n",
       "Jimison             2\n",
       "Oshie               2\n",
       "Oliviér             2\n",
       "Harold              2\n",
       "Aspen               2\n",
       "Olivia              2\n",
       "Moe                 2\n",
       "Brad                2\n",
       "Jeph                2\n",
       "not                 2\n",
       "actually            2\n",
       "Gabe                2\n",
       "Percy               2\n",
       "Nelly               2\n",
       "Sugar               2\n",
       "Misty               2\n",
       "Titan               2\n",
       "Covach              1\n",
       "Canela              1\n",
       "Chloe               1\n",
       "Bonaparte           1\n",
       "Cedrick             1\n",
       "Terrance            1\n",
       "Griswold            1\n",
       "Millie              1\n",
       "Howie               1\n",
       "Bluebert            1\n",
       "BeBe                1\n",
       "Vinscent            1\n",
       "Hero                1\n",
       "Ozzie               1\n",
       "Loomis              1\n",
       "Linus               1\n",
       "Pumpkin             1\n",
       "Lulu                1\n",
       "Sunshine            1\n",
       "unacceptable        1\n",
       "Rontu               1\n",
       "Ralf                1\n",
       "Willy               1\n",
       "Jangle              1\n",
       "Rorie               1\n",
       "Tyrus               1\n",
       "Margo               1\n",
       "Patch               1\n",
       "Pilot               1\n",
       "Amy                 1\n",
       "Chesney             1\n",
       "Juckson             1\n",
       "Emmy                1\n",
       "Koko                1\n",
       "Lillie              1\n",
       "Dudley              1\n",
       "Spark               1\n",
       "Astrid              1\n",
       "Acro                1\n",
       "Sprinkles           1\n",
       "Rodman              1\n",
       "Claude              1\n",
       "Amber               1\n",
       "Kenzie              1\n",
       "Einstein            1\n",
       "Jomathan            1\n",
       "Glacier             1\n",
       "Mimosa              1\n",
       "Ferg                1\n",
       "Buckley             1\n",
       "Blue                1\n",
       "Darla               1\n",
       "Clifford            1\n",
       "Grizz               1\n",
       "Donny               1\n",
       "Gidget              1\n",
       "JD                  1\n",
       "Lassie              1\n",
       "Reptar              1\n",
       "Dwight              1\n",
       "my                  1\n",
       "Bobble              1\n",
       "Anthony             1\n",
       "Autumn              1\n",
       "Teddy               1\n",
       "Oreo                1\n",
       "Daniel              1\n",
       "Sky                 1\n",
       "Duddles             1\n",
       "Snickers            1\n",
       "Scott               1\n",
       "Berb                1\n",
       "Crouton             1\n",
       "Godzilla            1\n",
       "Glenn               1\n",
       "Hurley              1\n",
       "Kota                1\n",
       "Jebberson           1\n",
       "Balto               1\n",
       "Rover               1\n",
       "Bert                1\n",
       "Rizzo               1\n",
       "Lizzie              1\n",
       "Kayla               1\n",
       "Tycho               1\n",
       "Holly               1\n",
       "Goliath             1\n",
       "Traviss             1\n",
       "Chuq                1\n",
       "Kawhi               1\n",
       "Perry               1\n",
       "Philippe            1\n",
       "Tedrick             1\n",
       "Suki                1\n",
       "Herschel            1\n",
       "Monkey              1\n",
       "such                1\n",
       "Scruffers           1\n",
       "Shiloh              1\n",
       "Heinrich            1\n",
       "Lilah               1\n",
       "Ben                 1\n",
       "Arya                1\n",
       "Pepper              1\n",
       "Tuck                1\n",
       "Kirk                1\n",
       "Logan               1\n",
       "Taz                 1\n",
       "Rose                1\n",
       "Oddie               1\n",
       "Tayzie              1\n",
       "Kallie              1\n",
       "Tess                1\n",
       "Yukon               1\n",
       "Carll               1\n",
       "Emanuel             1\n",
       "Creg                1\n",
       "Wafer               1\n",
       "Rudy                1\n",
       "Sweets              1\n",
       "Jim                 1\n",
       "Jareld              1\n",
       "Sundance            1\n",
       "Comet               1\n",
       "Halo                1\n",
       "Shaggy              1\n",
       "Schnozz             1\n",
       "Crimson             1\n",
       "Caryl               1\n",
       "Kloey               1\n",
       "officially          1\n",
       "Shakespeare         1\n",
       "Rilo                1\n",
       "Murphy              1\n",
       "Kona                1\n",
       "Mack                1\n",
       "Nimbus              1\n",
       "Jazzy               1\n",
       "Aqua                1\n",
       "Darrel              1\n",
       "Poppy               1\n",
       "Rufio               1\n",
       "Brady               1\n",
       "Mookie              1\n",
       "all                 1\n",
       "Zooey               1\n",
       "life                1\n",
       "Pinot               1\n",
       "Brockly             1\n",
       "Hall                1\n",
       "Harrison            1\n",
       "Doobert             1\n",
       "Stubert             1\n",
       "Gerbald             1\n",
       "Zeus                1\n",
       "Jockson             1\n",
       "Chase               1\n",
       "Chef                1\n",
       "Brandy              1\n",
       "Robin               1\n",
       "Blipson             1\n",
       "Diogi               1\n",
       "Jay                 1\n",
       "Bode                1\n",
       "Ken                 1\n",
       "Aubie               1\n",
       "Theo                1\n",
       "Alfy                1\n",
       "Mairi               1\n",
       "Pablo               1\n",
       "Lugan               1\n",
       "Levi                1\n",
       "Brian               1\n",
       "Blanket             1\n",
       "Damon               1\n",
       "Stephanus           1\n",
       "Rizzy               1\n",
       "Ike                 1\n",
       "Kendall             1\n",
       "Jazz                1\n",
       "Lupe                1\n",
       "Derby               1\n",
       "Rhino               1\n",
       "Apollo              1\n",
       "Rolf                1\n",
       "Kaia                1\n",
       "Nico                1\n",
       "Link                1\n",
       "Jett                1\n",
       "Mary                1\n",
       "Beckham             1\n",
       "Leonard             1\n",
       "Iggy                1\n",
       "Dante               1\n",
       "Jerome              1\n",
       "Lipton              1\n",
       "Tino                1\n",
       "Danny               1\n",
       "Jiminus             1\n",
       "Paull               1\n",
       "Maya                1\n",
       "Laela               1\n",
       "Tassy               1\n",
       "Ridley              1\n",
       "his                 1\n",
       "Mitch               1\n",
       "Edgar               1\n",
       "Willow              1\n",
       "Rambo               1\n",
       "Shawwn              1\n",
       "Skittles            1\n",
       "Wishes              1\n",
       "Dunkin              1\n",
       "Jamesy              1\n",
       "Edd                 1\n",
       "Willem              1\n",
       "Bookstore           1\n",
       "Banditt             1\n",
       "Tug                 1\n",
       "Jimbo               1\n",
       "Harnold             1\n",
       "Chompsky            1\n",
       "Bowie               1\n",
       "Betty               1\n",
       "Dixie               1\n",
       "Molly               1\n",
       "River               1\n",
       "Trevith             1\n",
       "Klein               1\n",
       "Evy                 1\n",
       "Nigel               1\n",
       "Jeremy              1\n",
       "old                 1\n",
       "Meyer               1\n",
       "Dewey               1\n",
       "Jessifer            1\n",
       "Seamus              1\n",
       "Julius              1\n",
       "Mojo                1\n",
       "Dutch               1\n",
       "Aja                 1\n",
       "Torque              1\n",
       "Cheesy              1\n",
       "Butters             1\n",
       "Lilli               1\n",
       "Timber              1\n",
       "Cali                1\n",
       "Ambrose             1\n",
       "Storkson            1\n",
       "Milky               1\n",
       "Georgie             1\n",
       "Gòrdón              1\n",
       "Godi                1\n",
       "Maude               1\n",
       "Toffee              1\n",
       "Lance               1\n",
       "Hermione            1\n",
       "infuriating         1\n",
       "Darby               1\n",
       "Flurpson            1\n",
       "Mollie              1\n",
       "Zara                1\n",
       "Akumi               1\n",
       "Wesley              1\n",
       "Winifred            1\n",
       "Stephan             1\n",
       "Pupcasso            1\n",
       "Hanz                1\n",
       "Bubba               1\n",
       "Monster             1\n",
       "Superpup            1\n",
       "Michelangelope      1\n",
       "Meatball            1\n",
       "Bronte              1\n",
       "Fizz                1\n",
       "Eriq                1\n",
       "Orion               1\n",
       "Naphaniel           1\n",
       "Cleopatricia        1\n",
       "Dook                1\n",
       "Fletcher            1\n",
       "Rueben              1\n",
       "Jaycob              1\n",
       "Andy                1\n",
       "Katie               1\n",
       "Major               1\n",
       "Devón               1\n",
       "Fillup              1\n",
       "Butter              1\n",
       "Anakin              1\n",
       "Kanu                1\n",
       "Stu                 1\n",
       "Happy               1\n",
       "Mona                1\n",
       "Eazy                1\n",
       "Joshwa              1\n",
       "Tonks               1\n",
       "Clyde               1\n",
       "Boots               1\n",
       "Ralphé              1\n",
       "Jordy               1\n",
       "Pavlov              1\n",
       "Cora                1\n",
       "Newt                1\n",
       "Florence            1\n",
       "Hercules            1\n",
       "Bloo                1\n",
       "Dotsy               1\n",
       "Ester               1\n",
       "Sojourner           1\n",
       "Smiley              1\n",
       "Divine              1\n",
       "Billy               1\n",
       "Brooks              1\n",
       "Laika               1\n",
       "Petrick             1\n",
       "Malikai             1\n",
       "Callie              1\n",
       "Raphael             1\n",
       "Craig               1\n",
       "Jeb                 1\n",
       "Sully               1\n",
       "DonDon              1\n",
       "Andru               1\n",
       "Philbert            1\n",
       "Marq                1\n",
       "Barclay             1\n",
       "Ralphy              1\n",
       "Kulet               1\n",
       "Lambeau             1\n",
       "Charl               1\n",
       "Roscoe              1\n",
       "Charleson           1\n",
       "Mauve               1\n",
       "Lenox               1\n",
       "Dallas              1\n",
       "Jersey              1\n",
       "Grizzwald           1\n",
       "Beebop              1\n",
       "Hazel               1\n",
       "Mason               1\n",
       "Marlee              1\n",
       "Bones               1\n",
       "Genevieve           1\n",
       "incredibly          1\n",
       "Mabel               1\n",
       "Corey               1\n",
       "Stewie              1\n",
       "Bradley             1\n",
       "Dido                1\n",
       "Siba                1\n",
       "Miley               1\n",
       "Beya                1\n",
       "Stuart              1\n",
       "Boston              1\n",
       "Goose               1\n",
       "Sailer              1\n",
       "Marty               1\n",
       "Gert                1\n",
       "Clybe               1\n",
       "Hamrick             1\n",
       "Rumble              1\n",
       "Brutus              1\n",
       "Al                  1\n",
       "Erik                1\n",
       "Kevon               1\n",
       "Grizzie             1\n",
       "Buddah              1\n",
       "Gunner              1\n",
       "Joey                1\n",
       "Sandra              1\n",
       "Colin               1\n",
       "Dug                 1\n",
       "Trip                1\n",
       "Ralphson            1\n",
       "Ralpher             1\n",
       "Amélie              1\n",
       "Fabio               1\n",
       "Eve                 1\n",
       "Gordon              1\n",
       "Tater               1\n",
       "Reagan              1\n",
       "Pippin              1\n",
       "Lucky               1\n",
       "Alejandro           1\n",
       "Maxwell             1\n",
       "Tripp               1\n",
       "Pluto               1\n",
       "Cannon              1\n",
       "Leela               1\n",
       "Izzy                1\n",
       "Noah                1\n",
       "Skittle             1\n",
       "Coopson             1\n",
       "Shooter             1\n",
       "Steve               1\n",
       "Pawnd               1\n",
       "Meera               1\n",
       "Eevee               1\n",
       "Augie               1\n",
       "Arnold              1\n",
       "light               1\n",
       "Mattie              1\n",
       "Sparky              1\n",
       "Sora                1\n",
       "Taco                1\n",
       "Humphrey            1\n",
       "William             1\n",
       "Kingsley            1\n",
       "Maks                1\n",
       "Snicku              1\n",
       "Ronnie              1\n",
       "Bobbay              1\n",
       "Gustav              1\n",
       "Rooney              1\n",
       "Hubertson           1\n",
       "Ginger              1\n",
       "Noosh               1\n",
       "Timofy              1\n",
       "Napolean            1\n",
       "by                  1\n",
       "Tyrone              1\n",
       "mad                 1\n",
       "Kramer              1\n",
       "Chuck               1\n",
       "Alf                 1\n",
       "Champ               1\n",
       "Thor                1\n",
       "Iroh                1\n",
       "Peanut              1\n",
       "DayZ                1\n",
       "Sierra              1\n",
       "Leonidas            1\n",
       "Monty               1\n",
       "Zuzu                1\n",
       "Filup               1\n",
       "Frönq               1\n",
       "Barry               1\n",
       "Dale                1\n",
       "Mo                  1\n",
       "Fido                1\n",
       "Livvie              1\n",
       "Tommy               1\n",
       "Arlen               1\n",
       "Grady               1\n",
       "Kathmandu           1\n",
       "Socks               1\n",
       "Strider             1\n",
       "Chubbs              1\n",
       "Snoop               1\n",
       "Harvey              1\n",
       "Opie                1\n",
       "Jeffri              1\n",
       "Blakely             1\n",
       "Rubio               1\n",
       "Adele               1\n",
       "Bell                1\n",
       "Franq               1\n",
       "Jackie              1\n",
       "Nugget              1\n",
       "Furzey              1\n",
       "Jennifur            1\n",
       "Ace                 1\n",
       "Pherb               1\n",
       "Tilly               1\n",
       "Ralphie             1\n",
       "Carper              1\n",
       "Huck                1\n",
       "Finnegus            1\n",
       "Sobe                1\n",
       "Jed                 1\n",
       "Birf                1\n",
       "Cilantro            1\n",
       "Zoe                 1\n",
       "Chadrick            1\n",
       "Bertson             1\n",
       "Tom                 1\n",
       "Swagger             1\n",
       "Stella              1\n",
       "Ember               1\n",
       "Trigger             1\n",
       "Venti               1\n",
       "Sid                 1\n",
       "Mike                1\n",
       "Enchilada           1\n",
       "Maisey              1\n",
       "Fiji                1\n",
       "Banjo               1\n",
       "Tupawc              1\n",
       "Odin                1\n",
       "Alexander           1\n",
       "Combo               1\n",
       "Norman              1\n",
       "Walker              1\n",
       "Kobe                1\n",
       "Lorelei             1\n",
       "Geoff               1\n",
       "Josep               1\n",
       "Kyro                1\n",
       "Herb                1\n",
       "Ole                 1\n",
       "Shadoe              1\n",
       "Mya                 1\n",
       "Tito                1\n",
       "Carbon              1\n",
       "Chevy               1\n",
       "Terrenth            1\n",
       "Sweet               1\n",
       "Richie              1\n",
       "Benny               1\n",
       "Rodney              1\n",
       "Remy                1\n",
       "Ralphus             1\n",
       "Tanner              1\n",
       "Pip                 1\n",
       "Ronduh              1\n",
       "Ron                 1\n",
       "Chesterson          1\n",
       "Blu                 1\n",
       "Saydee              1\n",
       "Moreton             1\n",
       "Aiden               1\n",
       "Harper              1\n",
       "Aldrick             1\n",
       "Miguel              1\n",
       "Burt                1\n",
       "Biden               1\n",
       "Mac                 1\n",
       "Skye                1\n",
       "Bilbo               1\n",
       "Brat                1\n",
       "Ricky               1\n",
       "Tobi                1\n",
       "Julio               1\n",
       "Bobby               1\n",
       "Shelby              1\n",
       "Berkeley            1\n",
       "Baron               1\n",
       "Karl                1\n",
       "Asher               1\n",
       "Sage                1\n",
       "Pubert              1\n",
       "Olaf                1\n",
       "Jarvis              1\n",
       "Moofasa             1\n",
       "Todo                1\n",
       "Ashleigh            1\n",
       "Marvin              1\n",
       "Freddery            1\n",
       "Gin                 1\n",
       "Geno                1\n",
       "Jonah               1\n",
       "Pancake             1\n",
       "Anna                1\n",
       "Arlo                1\n",
       "Lilly               1\n",
       "Rumpole             1\n",
       "Bruno               1\n",
       "Timmy               1\n",
       "Randall             1\n",
       "Dawn                1\n",
       "Spanky              1\n",
       "Fynn                1\n",
       "Luther              1\n",
       "Kial                1\n",
       "Nida                1\n",
       "Rascal              1\n",
       "Carter              1\n",
       "Remus               1\n",
       "Coleman             1\n",
       "Vinnie              1\n",
       "Bayley              1\n",
       "Obie                1\n",
       "Harry               1\n",
       "Mark                1\n",
       "Zeek                1\n",
       "Barney              1\n",
       "Kaiya               1\n",
       "Vince               1\n",
       "Angel               1\n",
       "Dot                 1\n",
       "Jessiga             1\n",
       "Cuddles             1\n",
       "Longfellow          1\n",
       "Ito                 1\n",
       "Crawford            1\n",
       "Nollie              1\n",
       "Cal                 1\n",
       "Severus             1\n",
       "Lacy                1\n",
       "Alexanderson        1\n",
       "Mutt                1\n",
       "Beemo               1\n",
       "Mosby               1\n",
       "Jo                  1\n",
       "Staniel             1\n",
       "Brudge              1\n",
       "Gilbert             1\n",
       "Yoda                1\n",
       "Stefan              1\n",
       "Brandonald          1\n",
       "Hector              1\n",
       "Shnuggles           1\n",
       "Samsom              1\n",
       "Binky               1\n",
       "Mingus              1\n",
       "Rey                 1\n",
       "Crumpet             1\n",
       "Wiggles             1\n",
       "Ed                  1\n",
       "Ivar                1\n",
       "Rinna               1\n",
       "Bodie               1\n",
       "Horace              1\n",
       "Ralph               1\n",
       "Baloo               1\n",
       "Ziva                1\n",
       "Ebby                1\n",
       "Durg                1\n",
       "Deacon              1\n",
       "Sprout              1\n",
       "Bloop               1\n",
       "Dylan               1\n",
       "Flash               1\n",
       "Kellogg             1\n",
       "space               1\n",
       "Quinn               1\n",
       "Jaspers             1\n",
       "Pipsy               1\n",
       "Spencer             1\n",
       "Lili                1\n",
       "Bungalo             1\n",
       "Bobb                1\n",
       "Christoper          1\n",
       "Huxley              1\n",
       "Schnitzel           1\n",
       "Shikha              1\n",
       "Simba               1\n",
       "Ruffles             1\n",
       "Karma               1\n",
       "Batdog              1\n",
       "Dobby               1\n",
       "Keet                1\n",
       "Cermet              1\n",
       "Pete                1\n",
       "Henry               1\n",
       "Karll               1\n",
       "this                1\n",
       "Tove                1\n",
       "Puff                1\n",
       "Bruiser             1\n",
       "Bradlay             1\n",
       "Cecil               1\n",
       "Kody                1\n",
       "Snoopy              1\n",
       "Vixen               1\n",
       "Sailor              1\n",
       "Clarkus             1\n",
       "Eleanor             1\n",
       "Kollin              1\n",
       "Cheryl              1\n",
       "Grey                1\n",
       "Obi                 1\n",
       "Gustaf              1\n",
       "Chaz                1\n",
       "Gromit              1\n",
       "Chelsea             1\n",
       "Willie              1\n",
       "Rupert              1\n",
       "Cupid               1\n",
       "Travis              1\n",
       "Tedders             1\n",
       "Stark               1\n",
       "Emmie               1\n",
       "Edmund              1\n",
       "Clarq               1\n",
       "Jameson             1\n",
       "Dex                 1\n",
       "Striker             1\n",
       "Kara                1\n",
       "Billl               1\n",
       "Brownie             1\n",
       "Farfle              1\n",
       "Sonny               1\n",
       "General             1\n",
       "Tango               1\n",
       "Strudel             1\n",
       "Antony              1\n",
       "Stormy              1\n",
       "Kenny               1\n",
       "Carly               1\n",
       "Fwed                1\n",
       "Liam                1\n",
       "Jarod               1\n",
       "Timison             1\n",
       "Tuco                1\n",
       "O                   1\n",
       "Sephie              1\n",
       "Tiger               1\n",
       "Kuyu                1\n",
       "Tessa               1\n",
       "Brandi              1\n",
       "Kane                1\n",
       "Ulysses             1\n",
       "Jeffrie             1\n",
       "Harlso              1\n",
       "Eugene              1\n",
       "Tebow               1\n",
       "Davey               1\n",
       "Emma                1\n",
       "Lolo                1\n",
       "Lucia               1\n",
       "Bauer               1\n",
       "Duchess             1\n",
       "Dietrich            1\n",
       "Name: name, dtype: int64"
      ]
     },
     "execution_count": 48,
     "metadata": {},
     "output_type": "execute_result"
    }
   ],
   "source": [
    "df_copy['name'].value_counts()"
   ]
  },
  {
   "cell_type": "markdown",
   "metadata": {},
   "source": [
    "#### 定义： 将开头是小写的数据和None值删掉"
   ]
  },
  {
   "cell_type": "markdown",
   "metadata": {},
   "source": [
    "#### 代码： "
   ]
  },
  {
   "cell_type": "code",
   "execution_count": 49,
   "metadata": {},
   "outputs": [],
   "source": [
    "mask = (df_copy.name.str.islower())|(df_copy.name == 'None')\n",
    "df_copy.loc[mask, 'name'] = np.nan"
   ]
  },
  {
   "cell_type": "markdown",
   "metadata": {},
   "source": [
    "#### 测试： "
   ]
  },
  {
   "cell_type": "code",
   "execution_count": 50,
   "metadata": {},
   "outputs": [
    {
     "data": {
      "text/plain": [
       "Lucy              11\n",
       "Charlie           11\n",
       "Oliver            10\n",
       "Cooper            10\n",
       "Tucker             9\n",
       "Penny              9\n",
       "Winston            8\n",
       "Lola               8\n",
       "Sadie              8\n",
       "Toby               7\n",
       "Daisy              7\n",
       "Bella              6\n",
       "Oscar              6\n",
       "Bailey             6\n",
       "Jax                6\n",
       "Koda               6\n",
       "Stanley            6\n",
       "Bo                 6\n",
       "Scout              5\n",
       "Leo                5\n",
       "Buddy              5\n",
       "Bentley            5\n",
       "Dave               5\n",
       "Rusty              5\n",
       "Louis              5\n",
       "Chester            5\n",
       "Milo               5\n",
       "Scooter            4\n",
       "Alfie              4\n",
       "Jeffrey            4\n",
       "Bear               4\n",
       "Finn               4\n",
       "Boomer             4\n",
       "Larry              4\n",
       "Maggie             4\n",
       "Dexter             4\n",
       "Sammy              4\n",
       "Clarence           4\n",
       "Jerry              4\n",
       "Derek              4\n",
       "Cassie             4\n",
       "Brody              4\n",
       "Jack               4\n",
       "Winnie             4\n",
       "Gus                4\n",
       "George             4\n",
       "Reggie             4\n",
       "Duke               4\n",
       "Phil               4\n",
       "Sophie             4\n",
       "Archie             4\n",
       "Clark              4\n",
       "Chip               4\n",
       "Gary               4\n",
       "Oakley             4\n",
       "Carl               3\n",
       "Beau               3\n",
       "Kyle               3\n",
       "Ruby               3\n",
       "Bruce              3\n",
       "Sunny              3\n",
       "Louie              3\n",
       "Maximus            3\n",
       "Wyatt              3\n",
       "Earl               3\n",
       "Walter             3\n",
       "Max                3\n",
       "Waffles            3\n",
       "Riley              3\n",
       "Loki               3\n",
       "Gerald             3\n",
       "Otis               3\n",
       "Shadow             3\n",
       "Reginald           3\n",
       "Wallace            3\n",
       "Reese              3\n",
       "Hank               3\n",
       "Moose              3\n",
       "Gizmo              3\n",
       "Vincent            3\n",
       "Luna               3\n",
       "Ted                3\n",
       "Nala               3\n",
       "Zeke               3\n",
       "Jimothy            3\n",
       "Steven             3\n",
       "Malcolm            3\n",
       "Zoey               3\n",
       "Klevin             3\n",
       "Olive              3\n",
       "Lily               3\n",
       "Wilson             3\n",
       "Doug               3\n",
       "Calvin             3\n",
       "Samson             3\n",
       "Ellie              3\n",
       "Sebastian          3\n",
       "Rosie              3\n",
       "Mia                3\n",
       "Remington          2\n",
       "Ava                2\n",
       "Rocky              2\n",
       "Lenny              2\n",
       "Eli                2\n",
       "Phineas            2\n",
       "Sandy              2\n",
       "Peaches            2\n",
       "Cupcake            2\n",
       "Romeo              2\n",
       "Maddie             2\n",
       "Fred               2\n",
       "Griffin            2\n",
       "Kevin              2\n",
       "Django             2\n",
       "Smokey             2\n",
       "Benji              2\n",
       "Albus              2\n",
       "Kilo               2\n",
       "Watson             2\n",
       "Ozzy               2\n",
       "Tyr                2\n",
       "Frankie            2\n",
       "Mister             2\n",
       "Hobbes             2\n",
       "Hammond            2\n",
       "Yogi               2\n",
       "Jackson            2\n",
       "Odie               2\n",
       "Misty              2\n",
       "Roosevelt          2\n",
       "Trooper            2\n",
       "Solomon            2\n",
       "Keurig             2\n",
       "Raymond            2\n",
       "Piper              2\n",
       "Sugar              2\n",
       "Crystal            2\n",
       "Dakota             2\n",
       "Paisley            2\n",
       "Sansa              2\n",
       "Finley             2\n",
       "Bernie             2\n",
       "Abby               2\n",
       "Arnie              2\n",
       "Benedict           2\n",
       "Franklin           2\n",
       "Herald             2\n",
       "Opal               2\n",
       "Phred              2\n",
       "Oliviér            2\n",
       "Aspen              2\n",
       "Pippa              2\n",
       "Coco               2\n",
       "Sampson            2\n",
       "Keith              2\n",
       "Linda              2\n",
       "Kreggory           2\n",
       "Colby              2\n",
       "Ollie              2\n",
       "Gabe               2\n",
       "Theodore           2\n",
       "Patrick            2\n",
       "Cash               2\n",
       "Lou                2\n",
       "Belle              2\n",
       "Lincoln            2\n",
       "Hunter             2\n",
       "Layla              2\n",
       "Harold             2\n",
       "Dash               2\n",
       "Cody               2\n",
       "Lennon             2\n",
       "Albert             2\n",
       "Axel               2\n",
       "Chipson            2\n",
       "Penelope           2\n",
       "CeCe               2\n",
       "Rory               2\n",
       "Frank              2\n",
       "Doc                2\n",
       "Maxaroni           2\n",
       "Neptune            2\n",
       "Alice              2\n",
       "Calbert            2\n",
       "Bob                2\n",
       "Flávio             2\n",
       "Jiminy             2\n",
       "Rocco              2\n",
       "Jeph               2\n",
       "Oshie              2\n",
       "Jimison            2\n",
       "Olivia             2\n",
       "Kenneth            2\n",
       "Thumas             2\n",
       "Juno               2\n",
       "Percy              2\n",
       "Nelly              2\n",
       "Ash                2\n",
       "Herm               2\n",
       "Chuckles           2\n",
       "Coops              2\n",
       "Kreg               2\n",
       "Fiona              2\n",
       "Charles            2\n",
       "Panda              2\n",
       "Blitz              2\n",
       "Pickles            2\n",
       "Rufus              2\n",
       "Indie              2\n",
       "Luca               2\n",
       "Lorenzo            2\n",
       "Terry              2\n",
       "Sarge              2\n",
       "Wally              2\n",
       "Elliot             2\n",
       "Kirby              2\n",
       "Titan              2\n",
       "Brad               2\n",
       "Curtis             2\n",
       "Churlie            2\n",
       "Atlas              2\n",
       "Moe                2\n",
       "Sam                2\n",
       "Chet               2\n",
       "Bisquick           2\n",
       "Jesse              2\n",
       "Atticus            2\n",
       "Baxter             2\n",
       "Marley             2\n",
       "Bubbles            2\n",
       "Jangle             1\n",
       "Dwight             1\n",
       "Chesney            1\n",
       "Reptar             1\n",
       "Geno               1\n",
       "Cedrick            1\n",
       "Chuq               1\n",
       "Loomis             1\n",
       "Howie              1\n",
       "Einstein           1\n",
       "Lassie             1\n",
       "Kallie             1\n",
       "Emmy               1\n",
       "Koko               1\n",
       "Willy              1\n",
       "Bert               1\n",
       "Ferg               1\n",
       "Lillie             1\n",
       "Darla              1\n",
       "Claude             1\n",
       "Zuzu               1\n",
       "Clifford           1\n",
       "Mimosa             1\n",
       "Bobble             1\n",
       "Patch              1\n",
       "Tess               1\n",
       "Rontu              1\n",
       "Blue               1\n",
       "Emanuel            1\n",
       "Traviss            1\n",
       "Tycho              1\n",
       "Sunshine           1\n",
       "Bluebert           1\n",
       "Scruffers          1\n",
       "Shiloh             1\n",
       "Sky                1\n",
       "Hero               1\n",
       "Lulu               1\n",
       "Pepper             1\n",
       "Cilantro           1\n",
       "Seamus             1\n",
       "Ralf               1\n",
       "Daniel             1\n",
       "Teddy              1\n",
       "Autumn             1\n",
       "Crouton            1\n",
       "Rose               1\n",
       "Oddie              1\n",
       "Canela             1\n",
       "Buckley            1\n",
       "Kawhi              1\n",
       "Chloe              1\n",
       "Bonaparte          1\n",
       "Glacier            1\n",
       "BeBe               1\n",
       "Gidget             1\n",
       "Dudley             1\n",
       "Kayla              1\n",
       "Spark              1\n",
       "Kota               1\n",
       "JD                 1\n",
       "Lizzie             1\n",
       "Akumi              1\n",
       "Heinrich           1\n",
       "Sprinkles          1\n",
       "Lilah              1\n",
       "Ben                1\n",
       "Arya               1\n",
       "Jebberson          1\n",
       "Tedrick            1\n",
       "Tuck               1\n",
       "Donny              1\n",
       "Monkey             1\n",
       "Ozzie              1\n",
       "Kirk               1\n",
       "Logan              1\n",
       "Taz                1\n",
       "Rodman             1\n",
       "Amber              1\n",
       "Amy                1\n",
       "Rover              1\n",
       "Tayzie             1\n",
       "Godzilla           1\n",
       "Berb               1\n",
       "Holly              1\n",
       "Oreo               1\n",
       "Goliath            1\n",
       "Terrance           1\n",
       "Astrid             1\n",
       "Anthony            1\n",
       "Millie             1\n",
       "Kenny              1\n",
       "Glenn              1\n",
       "Kenzie             1\n",
       "Tyrus              1\n",
       "Jomathan           1\n",
       "Herschel           1\n",
       "Suki               1\n",
       "Philippe           1\n",
       "Comet              1\n",
       "Perry              1\n",
       "Hurley             1\n",
       "Margo              1\n",
       "Duddles            1\n",
       "Snickers           1\n",
       "Vinscent           1\n",
       "Scott              1\n",
       "Juckson            1\n",
       "Jeb                1\n",
       "Grizz              1\n",
       "Rizzo              1\n",
       "Dot                1\n",
       "Balto              1\n",
       "Yukon              1\n",
       "Julius             1\n",
       "Crimson            1\n",
       "Wafer              1\n",
       "Rudy               1\n",
       "Sweets             1\n",
       "Jim                1\n",
       "Jareld             1\n",
       "Sundance           1\n",
       "Halo               1\n",
       "Shaggy             1\n",
       "Creg               1\n",
       "Schnozz            1\n",
       "Caryl              1\n",
       "Kloey              1\n",
       "Shakespeare        1\n",
       "Rilo               1\n",
       "Gilbert            1\n",
       "Kona               1\n",
       "Mack               1\n",
       "Wiggles            1\n",
       "Diogi              1\n",
       "Jazzy              1\n",
       "Aqua               1\n",
       "Bode               1\n",
       "Doobert            1\n",
       "Rufio              1\n",
       "Brady              1\n",
       "Mookie             1\n",
       "Zooey              1\n",
       "Pinot              1\n",
       "Brockly            1\n",
       "Hall               1\n",
       "Poppy              1\n",
       "Harrison           1\n",
       "Stubert            1\n",
       "Gerbald            1\n",
       "Zeus               1\n",
       "Genevieve          1\n",
       "Jockson            1\n",
       "Chase              1\n",
       "Chef               1\n",
       "Brandy             1\n",
       "Robin              1\n",
       "Blipson            1\n",
       "Jay                1\n",
       "Stephanus          1\n",
       "Darrel             1\n",
       "Kaia               1\n",
       "Theo               1\n",
       "Alfy               1\n",
       "Mairi              1\n",
       "Pablo              1\n",
       "Lugan              1\n",
       "Levi               1\n",
       "Brian              1\n",
       "Blanket            1\n",
       "Ken                1\n",
       "Damon              1\n",
       "Rizzy              1\n",
       "Ike                1\n",
       "Kendall            1\n",
       "Jazz               1\n",
       "Lupe               1\n",
       "Derby              1\n",
       "Rhino              1\n",
       "Burt               1\n",
       "Rolf               1\n",
       "Aubie              1\n",
       "Nico               1\n",
       "Mary               1\n",
       "Link               1\n",
       "Pherb              1\n",
       "Leonard            1\n",
       "Iggy               1\n",
       "Dante              1\n",
       "Jerome             1\n",
       "Lipton             1\n",
       "Clarkus            1\n",
       "Danny              1\n",
       "Jiminus            1\n",
       "Paull              1\n",
       "Maya               1\n",
       "Laela              1\n",
       "Tassy              1\n",
       "Ridley             1\n",
       "Mitch              1\n",
       "Edgar              1\n",
       "Willow             1\n",
       "Jett               1\n",
       "Dido               1\n",
       "Rambo              1\n",
       "Shawwn             1\n",
       "Mojo               1\n",
       "Jamesy             1\n",
       "Willem             1\n",
       "Bookstore          1\n",
       "Banditt            1\n",
       "Tug                1\n",
       "Jimbo              1\n",
       "Harnold            1\n",
       "Wishes             1\n",
       "Carll              1\n",
       "Betty              1\n",
       "Dixie              1\n",
       "Molly              1\n",
       "River              1\n",
       "Linus              1\n",
       "Trevith            1\n",
       "Klein              1\n",
       "Evy                1\n",
       "Nigel              1\n",
       "Jeremy             1\n",
       "Hermione           1\n",
       "Edd                1\n",
       "Dunkin             1\n",
       "Superpup           1\n",
       "Bowie              1\n",
       "Dutch              1\n",
       "Aja                1\n",
       "Torque             1\n",
       "Cheesy             1\n",
       "Butters            1\n",
       "Lilli              1\n",
       "Jessifer           1\n",
       "Timber             1\n",
       "Ambrose            1\n",
       "Storkson           1\n",
       "Milky              1\n",
       "Georgie            1\n",
       "Gòrdón             1\n",
       "Godi               1\n",
       "Maude              1\n",
       "Toffee             1\n",
       "Lance              1\n",
       "Cali               1\n",
       "Meyer              1\n",
       "Darby              1\n",
       "Katie              1\n",
       "Dewey              1\n",
       "Fletcher           1\n",
       "Zara               1\n",
       "Tito               1\n",
       "Wesley             1\n",
       "Winifred           1\n",
       "Stephan            1\n",
       "Pupcasso           1\n",
       "Hanz               1\n",
       "Bubba              1\n",
       "Flurpson           1\n",
       "Monster            1\n",
       "Michelangelope     1\n",
       "Meatball           1\n",
       "Bronte             1\n",
       "Fizz               1\n",
       "Eriq               1\n",
       "Orion              1\n",
       "Naphaniel          1\n",
       "Cleopatricia       1\n",
       "Dook               1\n",
       "Mollie             1\n",
       "Rueben             1\n",
       "Major              1\n",
       "Jaycob             1\n",
       "Devón              1\n",
       "Fillup             1\n",
       "Kramer             1\n",
       "Anakin             1\n",
       "Kanu               1\n",
       "Stu                1\n",
       "Happy              1\n",
       "Mona               1\n",
       "Tino               1\n",
       "Eazy               1\n",
       "Joshwa             1\n",
       "Tonks              1\n",
       "Clyde              1\n",
       "Boots              1\n",
       "Ralphé             1\n",
       "Jordy              1\n",
       "Pavlov             1\n",
       "Cora               1\n",
       "Andy               1\n",
       "Pumpkin            1\n",
       "Luther             1\n",
       "Newt               1\n",
       "Callie             1\n",
       "Ester              1\n",
       "Sojourner          1\n",
       "Smiley             1\n",
       "Divine             1\n",
       "Billy              1\n",
       "Brooks             1\n",
       "Laika              1\n",
       "Petrick            1\n",
       "Malikai            1\n",
       "Bloo               1\n",
       "Craig              1\n",
       "Humphrey           1\n",
       "Sully              1\n",
       "Andru              1\n",
       "Philbert           1\n",
       "Marq               1\n",
       "Barclay            1\n",
       "Ralphy             1\n",
       "Kulet              1\n",
       "Goose              1\n",
       "Sailer             1\n",
       "Marty              1\n",
       "Dotsy              1\n",
       "Lambeau            1\n",
       "Raphael            1\n",
       "Charl              1\n",
       "Lenox              1\n",
       "Dallas             1\n",
       "Jersey             1\n",
       "Grizzwald          1\n",
       "Beebop             1\n",
       "Hazel              1\n",
       "Mason              1\n",
       "Marlee             1\n",
       "Bones              1\n",
       "Charleson          1\n",
       "Zoe                1\n",
       "Mabel              1\n",
       "Corey              1\n",
       "Stewie             1\n",
       "Bradley            1\n",
       "Rorie              1\n",
       "Siba               1\n",
       "Miley              1\n",
       "Beya               1\n",
       "Stuart             1\n",
       "Boston             1\n",
       "Sandra             1\n",
       "Maxwell            1\n",
       "Tripp              1\n",
       "Rumble             1\n",
       "Al                 1\n",
       "Erik               1\n",
       "Kevon              1\n",
       "Grizzie            1\n",
       "Buddah             1\n",
       "Gunner             1\n",
       "Gert               1\n",
       "Joey               1\n",
       "Colin              1\n",
       "Dug                1\n",
       "Trip               1\n",
       "Ralphson           1\n",
       "Ralpher            1\n",
       "Amélie             1\n",
       "Fabio              1\n",
       "Eve                1\n",
       "Gordon             1\n",
       "Tater              1\n",
       "Benny              1\n",
       "Rodney             1\n",
       "Remy               1\n",
       "Brutus             1\n",
       "Hamrick            1\n",
       "Pluto              1\n",
       "Clybe              1\n",
       "Cannon             1\n",
       "Leela              1\n",
       "Izzy               1\n",
       "Noah               1\n",
       "Skittle            1\n",
       "Coopson            1\n",
       "Shooter            1\n",
       "Steve              1\n",
       "Pawnd              1\n",
       "Meera              1\n",
       "Eevee              1\n",
       "Apollo             1\n",
       "Arnold             1\n",
       "Mattie             1\n",
       "Sparky             1\n",
       "Sora               1\n",
       "Taco               1\n",
       "Alejandro          1\n",
       "Lucky              1\n",
       "Pippin             1\n",
       "Reagan             1\n",
       "Mauve              1\n",
       "Roscoe             1\n",
       "Chompsky           1\n",
       "Noosh              1\n",
       "Tyrone             1\n",
       "Leonidas           1\n",
       "Snicku             1\n",
       "Ronnie             1\n",
       "Bobbay             1\n",
       "Gustav             1\n",
       "Rooney             1\n",
       "Hubertson          1\n",
       "Griswold           1\n",
       "Ginger             1\n",
       "Timofy             1\n",
       "William            1\n",
       "Napolean           1\n",
       "Maks               1\n",
       "Chuck              1\n",
       "Alf                1\n",
       "Champ              1\n",
       "Thor               1\n",
       "Iroh               1\n",
       "Peanut             1\n",
       "DayZ               1\n",
       "Sierra             1\n",
       "Monty              1\n",
       "Strider            1\n",
       "Nimbus             1\n",
       "Franq              1\n",
       "Frönq              1\n",
       "Barry              1\n",
       "Dale               1\n",
       "Mo                 1\n",
       "Fido               1\n",
       "Livvie             1\n",
       "Tommy              1\n",
       "Arlen              1\n",
       "Grady              1\n",
       "Kathmandu          1\n",
       "Filup              1\n",
       "Socks              1\n",
       "Chubbs             1\n",
       "Snoop              1\n",
       "Harvey             1\n",
       "Opie               1\n",
       "Jeffri             1\n",
       "Blakely            1\n",
       "Rubio              1\n",
       "Adele              1\n",
       "Bell               1\n",
       "Jackie             1\n",
       "Nugget             1\n",
       "Furzey             1\n",
       "Ace                1\n",
       "Augie              1\n",
       "Tilly              1\n",
       "Ralphie            1\n",
       "Carper             1\n",
       "Huck               1\n",
       "Finnegus           1\n",
       "Sobe               1\n",
       "Jed                1\n",
       "Birf               1\n",
       "Jennifur           1\n",
       "Lorelei            1\n",
       "Chadrick           1\n",
       "Bertson            1\n",
       "Tom                1\n",
       "Swagger            1\n",
       "Stella             1\n",
       "Ember              1\n",
       "Trigger            1\n",
       "Venti              1\n",
       "Sid                1\n",
       "Mike               1\n",
       "Beckham            1\n",
       "Enchilada          1\n",
       "Tupawc             1\n",
       "Maisey             1\n",
       "Odin               1\n",
       "Alexander          1\n",
       "Combo              1\n",
       "Norman             1\n",
       "Walker             1\n",
       "Kobe               1\n",
       "Mark               1\n",
       "Geoff              1\n",
       "Josep              1\n",
       "Kyro               1\n",
       "Herb               1\n",
       "Ole                1\n",
       "Shadoe             1\n",
       "Mya                1\n",
       "Carbon             1\n",
       "Chevy              1\n",
       "Terrenth           1\n",
       "Sweet              1\n",
       "Richie             1\n",
       "Banjo              1\n",
       "Fiji               1\n",
       "Baron              1\n",
       "Keet               1\n",
       "Cermet             1\n",
       "Ralphus            1\n",
       "Tanner             1\n",
       "Pip                1\n",
       "Ronduh             1\n",
       "Ron                1\n",
       "Chesterson         1\n",
       "Blu                1\n",
       "Saydee             1\n",
       "Moreton            1\n",
       "Aiden              1\n",
       "Harper             1\n",
       "Aldrick            1\n",
       "Pete               1\n",
       "Biden              1\n",
       "Mac                1\n",
       "Skye               1\n",
       "Bilbo              1\n",
       "Brat               1\n",
       "Ricky              1\n",
       "Tobi               1\n",
       "Julio              1\n",
       "Florence           1\n",
       "Spanky             1\n",
       "Shelby             1\n",
       "Miguel             1\n",
       "Berkeley           1\n",
       "Kellogg            1\n",
       "Pubert             1\n",
       "Covach             1\n",
       "Olaf               1\n",
       "Jarvis             1\n",
       "Moofasa            1\n",
       "Todo               1\n",
       "Ashleigh           1\n",
       "Marvin             1\n",
       "Freddery           1\n",
       "Karl               1\n",
       "Gin                1\n",
       "Jonah              1\n",
       "Pancake            1\n",
       "Anna               1\n",
       "Arlo               1\n",
       "Lilly              1\n",
       "Rumpole            1\n",
       "Bruno              1\n",
       "Timmy              1\n",
       "Randall            1\n",
       "Dawn               1\n",
       "Fynn               1\n",
       "Bobby              1\n",
       "Barney             1\n",
       "Cal                1\n",
       "Rascal             1\n",
       "Carter             1\n",
       "Remus              1\n",
       "Coleman            1\n",
       "Vinnie             1\n",
       "Bayley             1\n",
       "Obie               1\n",
       "Harry              1\n",
       "Kial               1\n",
       "Zeek               1\n",
       "Kaiya              1\n",
       "Vince              1\n",
       "Angel              1\n",
       "Jessiga            1\n",
       "Cuddles            1\n",
       "Longfellow         1\n",
       "Ito                1\n",
       "Crawford           1\n",
       "Nollie             1\n",
       "Kingsley           1\n",
       "Hercules           1\n",
       "Nida               1\n",
       "Severus            1\n",
       "Mutt               1\n",
       "Lacy               1\n",
       "Beemo              1\n",
       "Mosby              1\n",
       "Jo                 1\n",
       "Staniel            1\n",
       "Brudge             1\n",
       "Murphy             1\n",
       "Yoda               1\n",
       "Stefan             1\n",
       "Brandonald         1\n",
       "Hector             1\n",
       "Shnuggles          1\n",
       "Samsom             1\n",
       "Binky              1\n",
       "Mingus             1\n",
       "Rey                1\n",
       "Crumpet            1\n",
       "Ed                 1\n",
       "Ivar               1\n",
       "DonDon             1\n",
       "Rinna              1\n",
       "Alexanderson       1\n",
       "Sage               1\n",
       "Asher              1\n",
       "Bodie              1\n",
       "Deacon             1\n",
       "Bloop              1\n",
       "Dylan              1\n",
       "Flash              1\n",
       "Baloo              1\n",
       "Quinn              1\n",
       "Pipsy              1\n",
       "Spencer            1\n",
       "Lili               1\n",
       "Bungalo            1\n",
       "Bobb               1\n",
       "Skittles           1\n",
       "Christoper         1\n",
       "Huxley             1\n",
       "Schnitzel          1\n",
       "Shikha             1\n",
       "Simba              1\n",
       "Gustaf             1\n",
       "Jaspers            1\n",
       "Chaz               1\n",
       "Striker            1\n",
       "Jarod              1\n",
       "Sprout             1\n",
       "Durg               1\n",
       "Tuco               1\n",
       "Ebby               1\n",
       "Henry              1\n",
       "Karll              1\n",
       "Tove               1\n",
       "Puff               1\n",
       "Bruiser            1\n",
       "Bradlay            1\n",
       "Cecil              1\n",
       "Kody               1\n",
       "Snoopy             1\n",
       "Vixen              1\n",
       "Sailor             1\n",
       "Eleanor            1\n",
       "Kollin             1\n",
       "Cheryl             1\n",
       "Grey               1\n",
       "Obi                1\n",
       "Dobby              1\n",
       "Batdog             1\n",
       "Karma              1\n",
       "Ruffles            1\n",
       "Ziva               1\n",
       "Timison            1\n",
       "O                  1\n",
       "Horace             1\n",
       "Cupid              1\n",
       "Tedders            1\n",
       "Stark              1\n",
       "Emmie              1\n",
       "Edmund             1\n",
       "Clarq              1\n",
       "Jameson            1\n",
       "Chelsea            1\n",
       "Dex                1\n",
       "Kara               1\n",
       "Billl              1\n",
       "Brownie            1\n",
       "Farfle             1\n",
       "Sonny              1\n",
       "General            1\n",
       "Tango              1\n",
       "Strudel            1\n",
       "Antony             1\n",
       "Stormy             1\n",
       "Butter             1\n",
       "Gromit             1\n",
       "Ralph              1\n",
       "Travis             1\n",
       "Rupert             1\n",
       "Sephie             1\n",
       "Willie             1\n",
       "Tiger              1\n",
       "Kuyu               1\n",
       "Tessa              1\n",
       "Brandi             1\n",
       "Kane               1\n",
       "Ulysses            1\n",
       "Jeffrie            1\n",
       "Harlso             1\n",
       "Eugene             1\n",
       "Tebow              1\n",
       "Davey              1\n",
       "Emma               1\n",
       "Lolo               1\n",
       "Lucia              1\n",
       "Bauer              1\n",
       "Duchess            1\n",
       "Liam               1\n",
       "Fwed               1\n",
       "Carly              1\n",
       "Acro               1\n",
       "Pilot              1\n",
       "Dietrich           1\n",
       "Name: name, dtype: int64"
      ]
     },
     "execution_count": 50,
     "metadata": {},
     "output_type": "execute_result"
    }
   ],
   "source": [
    "df_copy['name'].value_counts()"
   ]
  },
  {
   "cell_type": "markdown",
   "metadata": {},
   "source": [
    "观察数据，名字大致清洗完毕，想要更精确的结果，也许需要更多的人力成本"
   ]
  },
  {
   "cell_type": "markdown",
   "metadata": {},
   "source": [
    "##### 6. timestamp table : 数据类型不正确"
   ]
  },
  {
   "cell_type": "markdown",
   "metadata": {},
   "source": [
    "#### 定义：数据类型转换为时间类型"
   ]
  },
  {
   "cell_type": "markdown",
   "metadata": {},
   "source": [
    "#### 代码："
   ]
  },
  {
   "cell_type": "code",
   "execution_count": 51,
   "metadata": {},
   "outputs": [],
   "source": [
    "df_copy['timestamp'] = pd.to_datetime(df_copy['timestamp'])"
   ]
  },
  {
   "cell_type": "markdown",
   "metadata": {},
   "source": [
    "#### 测试："
   ]
  },
  {
   "cell_type": "code",
   "execution_count": 52,
   "metadata": {},
   "outputs": [
    {
     "data": {
      "text/plain": [
       "2112   2015-11-16 00:24:50+00:00\n",
       "2113   2015-11-16 00:04:52+00:00\n",
       "2114   2015-11-15 23:21:54+00:00\n",
       "2115   2015-11-15 23:05:30+00:00\n",
       "2116   2015-11-15 22:32:08+00:00\n",
       "Name: timestamp, dtype: datetime64[ns, UTC]"
      ]
     },
     "execution_count": 52,
     "metadata": {},
     "output_type": "execute_result"
    }
   ],
   "source": [
    "df_copy['timestamp'].tail()"
   ]
  },
  {
   "cell_type": "markdown",
   "metadata": {},
   "source": [
    "经查看， 数据类型更改完毕"
   ]
  },
  {
   "cell_type": "markdown",
   "metadata": {},
   "source": [
    "##### 7. 有时同一条数据中， 含有多个狗的地位数据， 正常情况下只能有doggo，floofer，pupper，puppo 中的一个"
   ]
  },
  {
   "cell_type": "markdown",
   "metadata": {},
   "source": [
    "#### 定义： 找出同时有多个地位数据的行， 与文字栏对比，进行修改"
   ]
  },
  {
   "cell_type": "markdown",
   "metadata": {},
   "source": [
    "#### 代码："
   ]
  },
  {
   "cell_type": "code",
   "execution_count": 53,
   "metadata": {},
   "outputs": [],
   "source": [
    "row_index = []\n",
    "total_rows = df_copy.shape[0]"
   ]
  },
  {
   "cell_type": "code",
   "execution_count": 54,
   "metadata": {},
   "outputs": [],
   "source": [
    "# 本函数, 输入行索引， 若同时出现多个地位， 将该行索引添加至一个列表内\n",
    "def find_wrong_row_index(index):\n",
    "    if (df_copy.loc[index, 'doggo']     == 'doggo'   and (df_copy.loc[index, 'floofer'] != 'None' or df_copy.loc[index, 'pupper'] != 'None' or df_copy.loc[index, 'puppo'] != 'None')):\n",
    "        row_index.append(index)\n",
    "    elif (df_copy.loc[index, 'floofer'] == 'floofer' and (df_copy.loc[index, 'doggo']   != 'None' or df_copy.loc[index, 'pupper'] != 'None' or df_copy.loc[index, 'puppo'] != 'None')):\n",
    "        row_index.append(index)\n",
    "    elif (df_copy.loc[index, 'pupper']  == 'pupper'  and (df_copy.loc[index, 'floofer'] != 'None' or df_copy.loc[index, 'doggo']  != 'None' or df_copy.loc[index, 'puppo'] != 'None')):\n",
    "        row_index.append(index)\n",
    "    elif (df_copy.loc[index, 'puppo']   == 'puppo'   and (df_copy.loc[index, 'floofer'] != 'None' or df_copy.loc[index, 'pupper'] != 'None' or df_copy.loc[index, 'doggo'] != 'None')):\n",
    "        row_index.append(index)"
   ]
  },
  {
   "cell_type": "code",
   "execution_count": 55,
   "metadata": {},
   "outputs": [],
   "source": [
    "# 本函数遍历df_copy的每一行, 找出有问题的行索引\n",
    "def get_row_index():\n",
    "    global row_index\n",
    "    row_index = []\n",
    "    for index in range(total_rows):\n",
    "        find_wrong_row_index(index)"
   ]
  },
  {
   "cell_type": "code",
   "execution_count": 56,
   "metadata": {},
   "outputs": [
    {
     "data": {
      "text/plain": [
       "[156, 163, 360, 418, 443, 449, 539, 564, 691, 750, 852, 901]"
      ]
     },
     "execution_count": 56,
     "metadata": {},
     "output_type": "execute_result"
    }
   ],
   "source": [
    "get_row_index()\n",
    "row_index"
   ]
  },
  {
   "cell_type": "code",
   "execution_count": 57,
   "metadata": {},
   "outputs": [
    {
     "data": {
      "text/html": [
       "<div>\n",
       "<style scoped>\n",
       "    .dataframe tbody tr th:only-of-type {\n",
       "        vertical-align: middle;\n",
       "    }\n",
       "\n",
       "    .dataframe tbody tr th {\n",
       "        vertical-align: top;\n",
       "    }\n",
       "\n",
       "    .dataframe thead th {\n",
       "        text-align: right;\n",
       "    }\n",
       "</style>\n",
       "<table border=\"1\" class=\"dataframe\">\n",
       "  <thead>\n",
       "    <tr style=\"text-align: right;\">\n",
       "      <th></th>\n",
       "      <th>text</th>\n",
       "      <th>name</th>\n",
       "      <th>doggo</th>\n",
       "      <th>floofer</th>\n",
       "      <th>pupper</th>\n",
       "      <th>puppo</th>\n",
       "    </tr>\n",
       "  </thead>\n",
       "  <tbody>\n",
       "    <tr>\n",
       "      <th>156</th>\n",
       "      <td>Here's a puppo participating in the #ScienceMarch. Cleverly disguising her own doggo agenda. 13/10 would keep the planet habitable for https://t.c...</td>\n",
       "      <td>NaN</td>\n",
       "      <td>doggo</td>\n",
       "      <td>None</td>\n",
       "      <td>None</td>\n",
       "      <td>puppo</td>\n",
       "    </tr>\n",
       "    <tr>\n",
       "      <th>163</th>\n",
       "      <td>At first I thought this was a shy doggo, but it's actually a Rare Canadian Floofer Owl. Amateurs would confuse the two. 11/10 only send dogs https...</td>\n",
       "      <td>NaN</td>\n",
       "      <td>doggo</td>\n",
       "      <td>floofer</td>\n",
       "      <td>None</td>\n",
       "      <td>None</td>\n",
       "    </tr>\n",
       "    <tr>\n",
       "      <th>360</th>\n",
       "      <td>This is Dido. She's playing the lead role in \"Pupper Stops to Catch Snow Before Resuming Shadow Box with Dried Apple.\" 13/10 (IG: didodoggo) https...</td>\n",
       "      <td>Dido</td>\n",
       "      <td>doggo</td>\n",
       "      <td>None</td>\n",
       "      <td>pupper</td>\n",
       "      <td>None</td>\n",
       "    </tr>\n",
       "    <tr>\n",
       "      <th>418</th>\n",
       "      <td>Here we have Burke (pupper) and Dexter (doggo). Pupper wants to be exactly like doggo. Both 12/10 would pet at same time https://t.co/ANBpEYHaho</td>\n",
       "      <td>NaN</td>\n",
       "      <td>doggo</td>\n",
       "      <td>None</td>\n",
       "      <td>pupper</td>\n",
       "      <td>None</td>\n",
       "    </tr>\n",
       "    <tr>\n",
       "      <th>443</th>\n",
       "      <td>Like doggo, like pupper version 2. Both 11/10 https://t.co/9IxWAXFqze</td>\n",
       "      <td>NaN</td>\n",
       "      <td>doggo</td>\n",
       "      <td>None</td>\n",
       "      <td>pupper</td>\n",
       "      <td>None</td>\n",
       "    </tr>\n",
       "    <tr>\n",
       "      <th>449</th>\n",
       "      <td>This is Bones. He's being haunted by another doggo of roughly the same size. 12/10 deep breaths pupper everything's fine https://t.co/55Dqe0SJNj</td>\n",
       "      <td>Bones</td>\n",
       "      <td>doggo</td>\n",
       "      <td>None</td>\n",
       "      <td>pupper</td>\n",
       "      <td>None</td>\n",
       "    </tr>\n",
       "    <tr>\n",
       "      <th>539</th>\n",
       "      <td>This is Pinot. He's a sophisticated doggo. You can tell by the hat. Also pointier than your average pupper. Still 10/10 would pet cautiously https...</td>\n",
       "      <td>Pinot</td>\n",
       "      <td>doggo</td>\n",
       "      <td>None</td>\n",
       "      <td>pupper</td>\n",
       "      <td>None</td>\n",
       "    </tr>\n",
       "    <tr>\n",
       "      <th>564</th>\n",
       "      <td>Pupper butt 1, Doggo 0. Both 12/10 https://t.co/WQvcPEpH2u</td>\n",
       "      <td>NaN</td>\n",
       "      <td>doggo</td>\n",
       "      <td>None</td>\n",
       "      <td>pupper</td>\n",
       "      <td>None</td>\n",
       "    </tr>\n",
       "    <tr>\n",
       "      <th>691</th>\n",
       "      <td>Meet Maggie &amp;amp; Lila. Maggie is the doggo, Lila is the pupper. They are sisters. Both 12/10 would pet at the same time https://t.co/MYwR4DQKll</td>\n",
       "      <td>Maggie</td>\n",
       "      <td>doggo</td>\n",
       "      <td>None</td>\n",
       "      <td>pupper</td>\n",
       "      <td>None</td>\n",
       "    </tr>\n",
       "    <tr>\n",
       "      <th>750</th>\n",
       "      <td>Please stop sending it pictures that don't even have a doggo or pupper in them. Churlish af. 5/10 neat couch tho https://t.co/u2c9c7qSg8</td>\n",
       "      <td>NaN</td>\n",
       "      <td>doggo</td>\n",
       "      <td>None</td>\n",
       "      <td>pupper</td>\n",
       "      <td>None</td>\n",
       "    </tr>\n",
       "    <tr>\n",
       "      <th>852</th>\n",
       "      <td>This is just downright precious af. 12/10 for both pupper and doggo https://t.co/o5J479bZUC</td>\n",
       "      <td>NaN</td>\n",
       "      <td>doggo</td>\n",
       "      <td>None</td>\n",
       "      <td>pupper</td>\n",
       "      <td>None</td>\n",
       "    </tr>\n",
       "    <tr>\n",
       "      <th>901</th>\n",
       "      <td>Like father (doggo), like son (pupper). Both 12/10 https://t.co/pG2inLaOda</td>\n",
       "      <td>NaN</td>\n",
       "      <td>doggo</td>\n",
       "      <td>None</td>\n",
       "      <td>pupper</td>\n",
       "      <td>None</td>\n",
       "    </tr>\n",
       "  </tbody>\n",
       "</table>\n",
       "</div>"
      ],
      "text/plain": [
       "                                                                                                                                                      text  \\\n",
       "156  Here's a puppo participating in the #ScienceMarch. Cleverly disguising her own doggo agenda. 13/10 would keep the planet habitable for https://t.c...   \n",
       "163  At first I thought this was a shy doggo, but it's actually a Rare Canadian Floofer Owl. Amateurs would confuse the two. 11/10 only send dogs https...   \n",
       "360  This is Dido. She's playing the lead role in \"Pupper Stops to Catch Snow Before Resuming Shadow Box with Dried Apple.\" 13/10 (IG: didodoggo) https...   \n",
       "418       Here we have Burke (pupper) and Dexter (doggo). Pupper wants to be exactly like doggo. Both 12/10 would pet at same time https://t.co/ANBpEYHaho   \n",
       "443                                                                                  Like doggo, like pupper version 2. Both 11/10 https://t.co/9IxWAXFqze   \n",
       "449       This is Bones. He's being haunted by another doggo of roughly the same size. 12/10 deep breaths pupper everything's fine https://t.co/55Dqe0SJNj   \n",
       "539  This is Pinot. He's a sophisticated doggo. You can tell by the hat. Also pointier than your average pupper. Still 10/10 would pet cautiously https...   \n",
       "564                                                                                             Pupper butt 1, Doggo 0. Both 12/10 https://t.co/WQvcPEpH2u   \n",
       "691       Meet Maggie &amp; Lila. Maggie is the doggo, Lila is the pupper. They are sisters. Both 12/10 would pet at the same time https://t.co/MYwR4DQKll   \n",
       "750               Please stop sending it pictures that don't even have a doggo or pupper in them. Churlish af. 5/10 neat couch tho https://t.co/u2c9c7qSg8   \n",
       "852                                                            This is just downright precious af. 12/10 for both pupper and doggo https://t.co/o5J479bZUC   \n",
       "901                                                                             Like father (doggo), like son (pupper). Both 12/10 https://t.co/pG2inLaOda   \n",
       "\n",
       "       name  doggo  floofer  pupper  puppo  \n",
       "156     NaN  doggo     None    None  puppo  \n",
       "163     NaN  doggo  floofer    None   None  \n",
       "360    Dido  doggo     None  pupper   None  \n",
       "418     NaN  doggo     None  pupper   None  \n",
       "443     NaN  doggo     None  pupper   None  \n",
       "449   Bones  doggo     None  pupper   None  \n",
       "539   Pinot  doggo     None  pupper   None  \n",
       "564     NaN  doggo     None  pupper   None  \n",
       "691  Maggie  doggo     None  pupper   None  \n",
       "750     NaN  doggo     None  pupper   None  \n",
       "852     NaN  doggo     None  pupper   None  \n",
       "901     NaN  doggo     None  pupper   None  "
      ]
     },
     "execution_count": 57,
     "metadata": {},
     "output_type": "execute_result"
    }
   ],
   "source": [
    "df_copy[['text', 'name', 'doggo', 'floofer', 'pupper', 'puppo']].loc[row_index]"
   ]
  },
  {
   "cell_type": "markdown",
   "metadata": {},
   "source": [
    "查看该表格， 对比text的内容， 将错误的狗地位栏手动修正过来"
   ]
  },
  {
   "cell_type": "code",
   "execution_count": 58,
   "metadata": {},
   "outputs": [],
   "source": [
    "df_copy.loc[156, 'doggo']   = 'None'\n",
    "df_copy.loc[163, 'doggo']   = 'None'\n",
    "df_copy.loc[163, 'floofer'] = 'None'\n",
    "df_copy.loc[360, 'doggo']   = 'None'\n",
    "df_copy.loc[449, 'doggo']   = 'None'\n",
    "df_copy.loc[539, 'pupper']  = 'None'\n",
    "df_copy.loc[750, 'doggo']   = 'None'\n",
    "df_copy.loc[750, 'pupper']  = 'None'"
   ]
  },
  {
   "cell_type": "markdown",
   "metadata": {},
   "source": [
    "#### 测试：此时再用一下函数找出同时含有多个地位数据的行，进行查看"
   ]
  },
  {
   "cell_type": "code",
   "execution_count": 59,
   "metadata": {},
   "outputs": [
    {
     "data": {
      "text/plain": [
       "[418, 443, 564, 691, 852, 901]"
      ]
     },
     "execution_count": 59,
     "metadata": {},
     "output_type": "execute_result"
    }
   ],
   "source": [
    "get_row_index()\n",
    "row_index"
   ]
  },
  {
   "cell_type": "code",
   "execution_count": 60,
   "metadata": {},
   "outputs": [
    {
     "data": {
      "text/html": [
       "<div>\n",
       "<style scoped>\n",
       "    .dataframe tbody tr th:only-of-type {\n",
       "        vertical-align: middle;\n",
       "    }\n",
       "\n",
       "    .dataframe tbody tr th {\n",
       "        vertical-align: top;\n",
       "    }\n",
       "\n",
       "    .dataframe thead th {\n",
       "        text-align: right;\n",
       "    }\n",
       "</style>\n",
       "<table border=\"1\" class=\"dataframe\">\n",
       "  <thead>\n",
       "    <tr style=\"text-align: right;\">\n",
       "      <th></th>\n",
       "      <th>text</th>\n",
       "      <th>name</th>\n",
       "      <th>doggo</th>\n",
       "      <th>floofer</th>\n",
       "      <th>pupper</th>\n",
       "      <th>puppo</th>\n",
       "    </tr>\n",
       "  </thead>\n",
       "  <tbody>\n",
       "    <tr>\n",
       "      <th>418</th>\n",
       "      <td>Here we have Burke (pupper) and Dexter (doggo). Pupper wants to be exactly like doggo. Both 12/10 would pet at same time https://t.co/ANBpEYHaho</td>\n",
       "      <td>NaN</td>\n",
       "      <td>doggo</td>\n",
       "      <td>None</td>\n",
       "      <td>pupper</td>\n",
       "      <td>None</td>\n",
       "    </tr>\n",
       "    <tr>\n",
       "      <th>443</th>\n",
       "      <td>Like doggo, like pupper version 2. Both 11/10 https://t.co/9IxWAXFqze</td>\n",
       "      <td>NaN</td>\n",
       "      <td>doggo</td>\n",
       "      <td>None</td>\n",
       "      <td>pupper</td>\n",
       "      <td>None</td>\n",
       "    </tr>\n",
       "    <tr>\n",
       "      <th>564</th>\n",
       "      <td>Pupper butt 1, Doggo 0. Both 12/10 https://t.co/WQvcPEpH2u</td>\n",
       "      <td>NaN</td>\n",
       "      <td>doggo</td>\n",
       "      <td>None</td>\n",
       "      <td>pupper</td>\n",
       "      <td>None</td>\n",
       "    </tr>\n",
       "    <tr>\n",
       "      <th>691</th>\n",
       "      <td>Meet Maggie &amp;amp; Lila. Maggie is the doggo, Lila is the pupper. They are sisters. Both 12/10 would pet at the same time https://t.co/MYwR4DQKll</td>\n",
       "      <td>Maggie</td>\n",
       "      <td>doggo</td>\n",
       "      <td>None</td>\n",
       "      <td>pupper</td>\n",
       "      <td>None</td>\n",
       "    </tr>\n",
       "    <tr>\n",
       "      <th>852</th>\n",
       "      <td>This is just downright precious af. 12/10 for both pupper and doggo https://t.co/o5J479bZUC</td>\n",
       "      <td>NaN</td>\n",
       "      <td>doggo</td>\n",
       "      <td>None</td>\n",
       "      <td>pupper</td>\n",
       "      <td>None</td>\n",
       "    </tr>\n",
       "    <tr>\n",
       "      <th>901</th>\n",
       "      <td>Like father (doggo), like son (pupper). Both 12/10 https://t.co/pG2inLaOda</td>\n",
       "      <td>NaN</td>\n",
       "      <td>doggo</td>\n",
       "      <td>None</td>\n",
       "      <td>pupper</td>\n",
       "      <td>None</td>\n",
       "    </tr>\n",
       "  </tbody>\n",
       "</table>\n",
       "</div>"
      ],
      "text/plain": [
       "                                                                                                                                                 text  \\\n",
       "418  Here we have Burke (pupper) and Dexter (doggo). Pupper wants to be exactly like doggo. Both 12/10 would pet at same time https://t.co/ANBpEYHaho   \n",
       "443                                                                             Like doggo, like pupper version 2. Both 11/10 https://t.co/9IxWAXFqze   \n",
       "564                                                                                        Pupper butt 1, Doggo 0. Both 12/10 https://t.co/WQvcPEpH2u   \n",
       "691  Meet Maggie &amp; Lila. Maggie is the doggo, Lila is the pupper. They are sisters. Both 12/10 would pet at the same time https://t.co/MYwR4DQKll   \n",
       "852                                                       This is just downright precious af. 12/10 for both pupper and doggo https://t.co/o5J479bZUC   \n",
       "901                                                                        Like father (doggo), like son (pupper). Both 12/10 https://t.co/pG2inLaOda   \n",
       "\n",
       "       name  doggo floofer  pupper puppo  \n",
       "418     NaN  doggo    None  pupper  None  \n",
       "443     NaN  doggo    None  pupper  None  \n",
       "564     NaN  doggo    None  pupper  None  \n",
       "691  Maggie  doggo    None  pupper  None  \n",
       "852     NaN  doggo    None  pupper  None  \n",
       "901     NaN  doggo    None  pupper  None  "
      ]
     },
     "execution_count": 60,
     "metadata": {},
     "output_type": "execute_result"
    }
   ],
   "source": [
    "df_copy[['text', 'name', 'doggo', 'floofer', 'pupper', 'puppo']].loc[row_index]"
   ]
  },
  {
   "cell_type": "markdown",
   "metadata": {},
   "source": [
    "经过修改,我们已经整理好一部分错误的行,<br/>\n",
    "其余的行,由于文字里包含了两个狗狗的图片导致地位栏也有两个地位,无法修改.<br/>\n",
    "此时,狗地位数据的质量问题已经清洗完毕"
   ]
  },
  {
   "cell_type": "markdown",
   "metadata": {},
   "source": [
    "##### 8.我们需要将预测结果不是狗的数据删除，且p1的预测概率远远大于p2和p3, 含有p2,p3的数据列也需要删除"
   ]
  },
  {
   "cell_type": "markdown",
   "metadata": {},
   "source": [
    "#### 定义："
   ]
  },
  {
   "cell_type": "markdown",
   "metadata": {},
   "source": [
    "#### 代码："
   ]
  },
  {
   "cell_type": "markdown",
   "metadata": {},
   "source": [
    "#### 测试："
   ]
  },
  {
   "cell_type": "markdown",
   "metadata": {},
   "source": [
    "##### 数据整洁度问题"
   ]
  },
  {
   "cell_type": "markdown",
   "metadata": {},
   "source": [
    "##### 1. 推特数据中，doggo，floofer，pupper，puppo栏应当删掉，建立新的地位栏，并填入相应数据\n"
   ]
  },
  {
   "cell_type": "markdown",
   "metadata": {},
   "source": [
    "#### 定义：遍历每一行，提取出地位数据并添加到新的status列中，并删去原有的doggo等四列"
   ]
  },
  {
   "cell_type": "markdown",
   "metadata": {},
   "source": [
    "#### 代码："
   ]
  },
  {
   "cell_type": "code",
   "execution_count": 63,
   "metadata": {},
   "outputs": [],
   "source": [
    "# 新建一列数据\n",
    "df_copy['status'] = 'None'"
   ]
  },
  {
   "cell_type": "code",
   "execution_count": 68,
   "metadata": {},
   "outputs": [],
   "source": [
    "# 通过遍历每一行， 找出该行狗的地位的名字， 并赋值给该行与status列所定位的位置\n",
    "def dogs_status():\n",
    "    for row in range(total_rows):\n",
    "        if df_copy.loc[row, 'doggo']     != 'None':\n",
    "            df_copy.loc[row, 'status']   = df_copy.loc[row, 'doggo']\n",
    "        elif df_copy.loc[row, 'floofer'] != 'None':\n",
    "            df_copy.loc[row, 'status']   = df_copy.loc[row, 'floofer']\n",
    "        elif df_copy.loc[row, 'pupper']  != 'None':\n",
    "            df_copy.loc[row, 'status']   = df_copy.loc[row, 'pupper']\n",
    "        elif df_copy.loc[row, 'puppo']   != 'None':\n",
    "            df_copy.loc[row, 'status']   = df_copy.loc[row, 'puppo']\n",
    "\n",
    "dogs_status()"
   ]
  },
  {
   "cell_type": "markdown",
   "metadata": {},
   "source": [
    "同时从质量问题8中我们知道， 由于个别的行文字里包含了两个狗狗的图片，导致地位栏也有两个地位， 我们通过手动进行修改"
   ]
  },
  {
   "cell_type": "code",
   "execution_count": 69,
   "metadata": {},
   "outputs": [
    {
     "data": {
      "text/plain": [
       "[418, 443, 564, 691, 852, 901]"
      ]
     },
     "execution_count": 69,
     "metadata": {},
     "output_type": "execute_result"
    }
   ],
   "source": [
    "get_row_index()\n",
    "row_index"
   ]
  },
  {
   "cell_type": "code",
   "execution_count": 70,
   "metadata": {},
   "outputs": [],
   "source": [
    "df_copy.loc[418, 'status'] = 'doggo & pupper'\n",
    "df_copy.loc[443, 'status'] = 'doggo & pupper'\n",
    "df_copy.loc[564, 'status'] = 'doggo & pupper'\n",
    "df_copy.loc[691, 'status'] = 'doggo & pupper'\n",
    "df_copy.loc[852, 'status'] = 'doggo & pupper'\n",
    "df_copy.loc[901, 'status'] = 'doggo & pupper'"
   ]
  },
  {
   "cell_type": "code",
   "execution_count": 72,
   "metadata": {},
   "outputs": [],
   "source": [
    "df_copy.drop(['doggo', 'floofer', 'pupper', 'puppo'], axis = 1, inplace = True)"
   ]
  },
  {
   "cell_type": "markdown",
   "metadata": {},
   "source": [
    "#### 测试："
   ]
  },
  {
   "cell_type": "code",
   "execution_count": 78,
   "metadata": {},
   "outputs": [
    {
     "data": {
      "text/plain": [
       "None              1781\n",
       "pupper             224\n",
       "doggo               73\n",
       "puppo               24\n",
       "floofer              9\n",
       "doggo & pupper       6\n",
       "Name: status, dtype: int64"
      ]
     },
     "execution_count": 78,
     "metadata": {},
     "output_type": "execute_result"
    }
   ],
   "source": [
    "df_copy['status'].value_counts()"
   ]
  },
  {
   "cell_type": "code",
   "execution_count": 79,
   "metadata": {
    "scrolled": true
   },
   "outputs": [
    {
     "data": {
      "text/html": [
       "<div>\n",
       "<style scoped>\n",
       "    .dataframe tbody tr th:only-of-type {\n",
       "        vertical-align: middle;\n",
       "    }\n",
       "\n",
       "    .dataframe tbody tr th {\n",
       "        vertical-align: top;\n",
       "    }\n",
       "\n",
       "    .dataframe thead th {\n",
       "        text-align: right;\n",
       "    }\n",
       "</style>\n",
       "<table border=\"1\" class=\"dataframe\">\n",
       "  <thead>\n",
       "    <tr style=\"text-align: right;\">\n",
       "      <th></th>\n",
       "      <th>tweet_id</th>\n",
       "      <th>timestamp</th>\n",
       "      <th>source</th>\n",
       "      <th>text</th>\n",
       "      <th>expanded_urls</th>\n",
       "      <th>rating_numerator</th>\n",
       "      <th>rating_denominator</th>\n",
       "      <th>name</th>\n",
       "      <th>status</th>\n",
       "    </tr>\n",
       "  </thead>\n",
       "  <tbody>\n",
       "    <tr>\n",
       "      <th>2007</th>\n",
       "      <td>667902449697558528</td>\n",
       "      <td>2015-11-21 03:08:47+00:00</td>\n",
       "      <td>Twitter for iPhone</td>\n",
       "      <td>This is Cleopatricia. She is a northern Paperback Maple. Set up hammock somehow. 9/10 would chill in hammock with https://t.co/sJeHdGUt0W</td>\n",
       "      <td>https://twitter.com/dog_rates/status/667902449697558528/photo/1</td>\n",
       "      <td>9.0</td>\n",
       "      <td>10.0</td>\n",
       "      <td>Cleopatricia</td>\n",
       "      <td>None</td>\n",
       "    </tr>\n",
       "    <tr>\n",
       "      <th>1832</th>\n",
       "      <td>671147085991960577</td>\n",
       "      <td>2015-11-30 02:01:49+00:00</td>\n",
       "      <td>Twitter for iPhone</td>\n",
       "      <td>This is a Helvetica Listerine named Rufus. This time Rufus will be ready for the UPS guy. He'll never expect it 9/10 https://t.co/34OhVhMkVr</td>\n",
       "      <td>https://twitter.com/dog_rates/status/671147085991960577/photo/1</td>\n",
       "      <td>9.0</td>\n",
       "      <td>10.0</td>\n",
       "      <td>NaN</td>\n",
       "      <td>None</td>\n",
       "    </tr>\n",
       "    <tr>\n",
       "      <th>1978</th>\n",
       "      <td>668544745690562560</td>\n",
       "      <td>2015-11-22 21:41:02+00:00</td>\n",
       "      <td>Twitter for iPhone</td>\n",
       "      <td>It is an honor to rate this pup. He is a Snorklhuahua from Amarillo. A true renaissance dog. Also part Rudolph 10/10 https://t.co/ALNyYuGui7</td>\n",
       "      <td>https://twitter.com/dog_rates/status/668544745690562560/photo/1</td>\n",
       "      <td>10.0</td>\n",
       "      <td>10.0</td>\n",
       "      <td>NaN</td>\n",
       "      <td>None</td>\n",
       "    </tr>\n",
       "    <tr>\n",
       "      <th>1091</th>\n",
       "      <td>707387676719185920</td>\n",
       "      <td>2016-03-09 02:08:59+00:00</td>\n",
       "      <td>Twitter for iPhone</td>\n",
       "      <td>Meet Clarkus. He's a Skinny Eastern Worcestershire. Can tie own shoes (impressive af) 10/10 would put on track team https://t.co/XP5o7zGn0E</td>\n",
       "      <td>https://twitter.com/dog_rates/status/707387676719185920/photo/1</td>\n",
       "      <td>10.0</td>\n",
       "      <td>10.0</td>\n",
       "      <td>Clarkus</td>\n",
       "      <td>None</td>\n",
       "    </tr>\n",
       "    <tr>\n",
       "      <th>329</th>\n",
       "      <td>822610361945911296</td>\n",
       "      <td>2017-01-21 01:02:48+00:00</td>\n",
       "      <td>Twitter for iPhone</td>\n",
       "      <td>Please stop sending in non-canines like this Very Pettable Dozing Bath Tortoise. We only rate dogs. Only send dogs... 12/10 https://t.co/mcagPeENIh</td>\n",
       "      <td>https://twitter.com/dog_rates/status/822610361945911296/photo/1</td>\n",
       "      <td>12.0</td>\n",
       "      <td>10.0</td>\n",
       "      <td>NaN</td>\n",
       "      <td>None</td>\n",
       "    </tr>\n",
       "  </tbody>\n",
       "</table>\n",
       "</div>"
      ],
      "text/plain": [
       "                tweet_id                 timestamp              source  \\\n",
       "2007  667902449697558528 2015-11-21 03:08:47+00:00  Twitter for iPhone   \n",
       "1832  671147085991960577 2015-11-30 02:01:49+00:00  Twitter for iPhone   \n",
       "1978  668544745690562560 2015-11-22 21:41:02+00:00  Twitter for iPhone   \n",
       "1091  707387676719185920 2016-03-09 02:08:59+00:00  Twitter for iPhone   \n",
       "329   822610361945911296 2017-01-21 01:02:48+00:00  Twitter for iPhone   \n",
       "\n",
       "                                                                                                                                                     text  \\\n",
       "2007            This is Cleopatricia. She is a northern Paperback Maple. Set up hammock somehow. 9/10 would chill in hammock with https://t.co/sJeHdGUt0W   \n",
       "1832         This is a Helvetica Listerine named Rufus. This time Rufus will be ready for the UPS guy. He'll never expect it 9/10 https://t.co/34OhVhMkVr   \n",
       "1978         It is an honor to rate this pup. He is a Snorklhuahua from Amarillo. A true renaissance dog. Also part Rudolph 10/10 https://t.co/ALNyYuGui7   \n",
       "1091          Meet Clarkus. He's a Skinny Eastern Worcestershire. Can tie own shoes (impressive af) 10/10 would put on track team https://t.co/XP5o7zGn0E   \n",
       "329   Please stop sending in non-canines like this Very Pettable Dozing Bath Tortoise. We only rate dogs. Only send dogs... 12/10 https://t.co/mcagPeENIh   \n",
       "\n",
       "                                                        expanded_urls  \\\n",
       "2007  https://twitter.com/dog_rates/status/667902449697558528/photo/1   \n",
       "1832  https://twitter.com/dog_rates/status/671147085991960577/photo/1   \n",
       "1978  https://twitter.com/dog_rates/status/668544745690562560/photo/1   \n",
       "1091  https://twitter.com/dog_rates/status/707387676719185920/photo/1   \n",
       "329   https://twitter.com/dog_rates/status/822610361945911296/photo/1   \n",
       "\n",
       "      rating_numerator  rating_denominator          name status  \n",
       "2007               9.0                10.0  Cleopatricia   None  \n",
       "1832               9.0                10.0           NaN   None  \n",
       "1978              10.0                10.0           NaN   None  \n",
       "1091              10.0                10.0       Clarkus   None  \n",
       "329               12.0                10.0           NaN   None  "
      ]
     },
     "execution_count": 79,
     "metadata": {},
     "output_type": "execute_result"
    }
   ],
   "source": [
    "df_copy.sample(5)"
   ]
  },
  {
   "cell_type": "markdown",
   "metadata": {},
   "source": [
    "由于status这样的列，可能一行数据中包含了不只一个值，故将这一列中的多个值进行拆分，形成多行数据<br/>\n",
    "虽然这样可能会产生tweet_id的重复项，但是这个拆分后的新数据集，却可以单独用来分析地位相关的聚合统计"
   ]
  },
  {
   "cell_type": "markdown",
   "metadata": {},
   "source": [
    "##### 2.补充数据中的两个计数栏可以合并到推特数据中."
   ]
  },
  {
   "cell_type": "code",
   "execution_count": null,
   "metadata": {},
   "outputs": [],
   "source": [
    "df_copy.info()              "
   ]
  },
  {
   "cell_type": "code",
   "execution_count": null,
   "metadata": {},
   "outputs": [],
   "source": [
    "img_predictions_copy.info()  "
   ]
  },
  {
   "cell_type": "code",
   "execution_count": null,
   "metadata": {},
   "outputs": [],
   "source": [
    "df_extra_copy.info()"
   ]
  },
  {
   "cell_type": "code",
   "execution_count": null,
   "metadata": {},
   "outputs": [],
   "source": [
    "df_copy['tweet_id'].duplicated().sum()"
   ]
  },
  {
   "cell_type": "code",
   "execution_count": null,
   "metadata": {},
   "outputs": [],
   "source": [
    "df_extra_copy['tweet_id'].duplicated().sum() "
   ]
  },
  {
   "cell_type": "code",
   "execution_count": null,
   "metadata": {},
   "outputs": [],
   "source": [
    "img_predictions_copy['tweet_id'].duplicated().sum()"
   ]
  },
  {
   "cell_type": "code",
   "execution_count": null,
   "metadata": {},
   "outputs": [],
   "source": [
    "newframe = pd.merge(df_copy,df_extra_copy,on='tweet_id',how='outer')    "
   ]
  },
  {
   "cell_type": "code",
   "execution_count": null,
   "metadata": {},
   "outputs": [],
   "source": [
    "newframe_update = pd.merge(newframe, img_predictions_copy,on='tweet_id',how='outer')"
   ]
  },
  {
   "cell_type": "code",
   "execution_count": null,
   "metadata": {},
   "outputs": [],
   "source": [
    "newframe_update.info()"
   ]
  },
  {
   "cell_type": "code",
   "execution_count": null,
   "metadata": {},
   "outputs": [],
   "source": [
    "#newframe_update.fillna('None', inplace = True)"
   ]
  },
  {
   "cell_type": "code",
   "execution_count": null,
   "metadata": {},
   "outputs": [],
   "source": [
    "newframe_update.sample()"
   ]
  },
  {
   "cell_type": "code",
   "execution_count": null,
   "metadata": {},
   "outputs": [],
   "source": [
    "expect_file = 'twitter_archive_master.csv'"
   ]
  },
  {
   "cell_type": "code",
   "execution_count": null,
   "metadata": {},
   "outputs": [],
   "source": [
    "if not os.path.exists(expect_file):\n",
    "    newframe_update.to_csv(expect_file, index=False)"
   ]
  },
  {
   "cell_type": "markdown",
   "metadata": {},
   "source": [
    "##### 此时，我们已经完成了基本的数据清洗，将所有的数据保存至twitter_archive_master.csv文件内"
   ]
  },
  {
   "cell_type": "markdown",
   "metadata": {},
   "source": [
    "### 数据分析"
   ]
  },
  {
   "cell_type": "markdown",
   "metadata": {},
   "source": [
    "#### 提出问题"
   ]
  },
  {
   "cell_type": "markdown",
   "metadata": {},
   "source": [
    "1. 在一天中的哪个时段，发推文的用户比较多？\n",
    "2. 哪些种类的狗狗获得了较高的转发数？ \n",
    "3. 得到了高评分的狗狗得到的转发数就一定多吗？\n",
    "4. 数据中狗狗评分的高低和所处于的地位有什么关系？"
   ]
  },
  {
   "cell_type": "markdown",
   "metadata": {},
   "source": [
    "#### 探索性分析"
   ]
  },
  {
   "cell_type": "code",
   "execution_count": null,
   "metadata": {},
   "outputs": [],
   "source": [
    "import numpy as np\n",
    "import seaborn as sb\n",
    "import matplotlib.pyplot as plt\n",
    "%matplotlib inline"
   ]
  },
  {
   "cell_type": "code",
   "execution_count": null,
   "metadata": {},
   "outputs": [],
   "source": [
    "df_updates = pd.read_csv(expect_file)"
   ]
  },
  {
   "cell_type": "code",
   "execution_count": null,
   "metadata": {},
   "outputs": [],
   "source": [
    "df_updates_copy = df_updates.copy()"
   ]
  },
  {
   "cell_type": "code",
   "execution_count": null,
   "metadata": {},
   "outputs": [],
   "source": [
    "df_updates_copy.info()"
   ]
  },
  {
   "cell_type": "markdown",
   "metadata": {},
   "source": [
    "##### 1.在一天中的哪个时段，发推文的用户比较多？"
   ]
  },
  {
   "cell_type": "code",
   "execution_count": null,
   "metadata": {},
   "outputs": [],
   "source": [
    "df_updates_copy['timestamp'] = pd.to_datetime(df_updates_copy['timestamp'])"
   ]
  },
  {
   "cell_type": "code",
   "execution_count": null,
   "metadata": {},
   "outputs": [],
   "source": [
    "df_updates_copy['timestamp'].tail()"
   ]
  },
  {
   "cell_type": "code",
   "execution_count": null,
   "metadata": {},
   "outputs": [],
   "source": [
    "df_updates_copy['hour'] = df_updates_copy['timestamp'].dt.hour"
   ]
  },
  {
   "cell_type": "code",
   "execution_count": null,
   "metadata": {},
   "outputs": [],
   "source": [
    "df_updates_copy[['hour']].info()"
   ]
  },
  {
   "cell_type": "code",
   "execution_count": null,
   "metadata": {},
   "outputs": [],
   "source": [
    "df_updates_copy['hour'].value_counts().sort_index(axis=0, ascending=True)"
   ]
  },
  {
   "cell_type": "code",
   "execution_count": null,
   "metadata": {
    "scrolled": true
   },
   "outputs": [],
   "source": [
    "df_updates_copy['hour'].value_counts().sort_index(axis=0, ascending=True).plot(kind = 'bar')\n",
    "plt.ylabel('counts', fontsize = 15)\n",
    "plt.xlabel('hour', fontsize = 15)"
   ]
  },
  {
   "cell_type": "markdown",
   "metadata": {},
   "source": [
    "从图中我们可以看出， 凌晨时段和下午傍晚时段， 发推特的用户比较多"
   ]
  },
  {
   "cell_type": "markdown",
   "metadata": {},
   "source": [
    "##### 2.哪些种类的狗狗获得了较高的转发数？"
   ]
  },
  {
   "cell_type": "markdown",
   "metadata": {},
   "source": [
    "经过观察，p1的预测概率远远大于p2和p3, 所以我们将含有p2,p3的数据删除"
   ]
  },
  {
   "cell_type": "code",
   "execution_count": null,
   "metadata": {},
   "outputs": [],
   "source": [
    "df_updates_copy.drop(['p2', 'p2_conf', 'p2_dog', 'p3', 'p3_conf', 'p3_dog'], axis=1, inplace=True)"
   ]
  },
  {
   "cell_type": "markdown",
   "metadata": {},
   "source": [
    "其次，我们将预测结果不是狗的数据删除"
   ]
  },
  {
   "cell_type": "code",
   "execution_count": null,
   "metadata": {},
   "outputs": [],
   "source": [
    "data_to_delete_index = df_updates_copy[df_updates_copy['p1_dog'] != 'True'].index"
   ]
  },
  {
   "cell_type": "code",
   "execution_count": null,
   "metadata": {},
   "outputs": [],
   "source": [
    "df_updates_copy.drop(index = data_to_delete_index, inplace = True)"
   ]
  },
  {
   "cell_type": "code",
   "execution_count": null,
   "metadata": {},
   "outputs": [],
   "source": [
    "df_updates_copy['p1_dog'].value_counts()"
   ]
  },
  {
   "cell_type": "markdown",
   "metadata": {},
   "source": [
    "retweet_count栏含有空数据，删除后转换为float类型"
   ]
  },
  {
   "cell_type": "code",
   "execution_count": null,
   "metadata": {},
   "outputs": [],
   "source": [
    "df_updates_copy[df_updates_copy['retweet_count'] == 'None']"
   ]
  },
  {
   "cell_type": "code",
   "execution_count": null,
   "metadata": {},
   "outputs": [],
   "source": [
    "df_updates_copy.drop(index=[19], inplace = True)"
   ]
  },
  {
   "cell_type": "code",
   "execution_count": null,
   "metadata": {},
   "outputs": [],
   "source": [
    "df_updates_copy['retweet_count'] = df_updates_copy['retweet_count'].astype(float)"
   ]
  },
  {
   "cell_type": "code",
   "execution_count": null,
   "metadata": {},
   "outputs": [],
   "source": [
    "df_updates_copy[['retweet_count']].info()"
   ]
  },
  {
   "cell_type": "code",
   "execution_count": null,
   "metadata": {},
   "outputs": [],
   "source": [
    "df_updates_copy = df_updates_copy.reset_index(drop = True)"
   ]
  },
  {
   "cell_type": "code",
   "execution_count": null,
   "metadata": {
    "scrolled": true
   },
   "outputs": [],
   "source": [
    "temporary_1 = df_updates_copy[['retweet_count', 'p1']]"
   ]
  },
  {
   "cell_type": "code",
   "execution_count": null,
   "metadata": {},
   "outputs": [],
   "source": [
    "temporary_1.groupby('p1').sum().sort_values(by = 'retweet_count', ascending = False).plot(kind = 'bar', figsize=(20,10))\n",
    "plt.ylabel('counts', fontsize = 15)\n",
    "plt.xlabel('dog_type', fontsize = 15)"
   ]
  },
  {
   "cell_type": "code",
   "execution_count": null,
   "metadata": {},
   "outputs": [],
   "source": [
    "temporary_1.groupby('p1').sum().sort_values(by = 'retweet_count', ascending = False)"
   ]
  },
  {
   "cell_type": "markdown",
   "metadata": {},
   "source": [
    "我们可以看到golden_retriever比较受欢迎， 得到了最多的转发数"
   ]
  },
  {
   "cell_type": "markdown",
   "metadata": {},
   "source": [
    "##### 3.得到了高评分的狗狗得到的转发数就一定多吗？"
   ]
  },
  {
   "cell_type": "code",
   "execution_count": null,
   "metadata": {},
   "outputs": [],
   "source": [
    "df_updates_copy['rating_denominator'].value_counts()"
   ]
  },
  {
   "cell_type": "code",
   "execution_count": null,
   "metadata": {},
   "outputs": [],
   "source": [
    "df_updates_copy[df_updates_copy['rating_denominator'] == 0.0]"
   ]
  },
  {
   "cell_type": "code",
   "execution_count": null,
   "metadata": {},
   "outputs": [],
   "source": [
    "df_updates_copy['rates_final'] = df_updates_copy['rating_numerator'] / df_updates_copy['rating_denominator']"
   ]
  },
  {
   "cell_type": "code",
   "execution_count": null,
   "metadata": {},
   "outputs": [],
   "source": [
    "df_updates_copy['rates_final'] = df_updates_copy['rates_final'].round(3)"
   ]
  },
  {
   "cell_type": "code",
   "execution_count": null,
   "metadata": {},
   "outputs": [],
   "source": [
    "# 由于数据中存在一列 分子分母皆为0的情况，我们对该数据进行处理\n",
    "df_updates_copy['rates_final'].fillna(0, inplace = True)"
   ]
  },
  {
   "cell_type": "code",
   "execution_count": null,
   "metadata": {},
   "outputs": [],
   "source": [
    "df_updates_copy[['rates_final']].info()"
   ]
  },
  {
   "cell_type": "code",
   "execution_count": null,
   "metadata": {},
   "outputs": [],
   "source": [
    "temporary_2 = df_updates_copy[['retweet_count', 'rates_final']]"
   ]
  },
  {
   "cell_type": "code",
   "execution_count": null,
   "metadata": {},
   "outputs": [],
   "source": [
    "temporary_2.groupby('rates_final').mean().sort_index(ascending = False)"
   ]
  },
  {
   "cell_type": "code",
   "execution_count": null,
   "metadata": {
    "scrolled": true
   },
   "outputs": [],
   "source": [
    "temporary_2.groupby('rates_final').mean().sort_index(ascending = False).plot(kind = 'bar', figsize=(20,6))\n",
    "plt.ylabel('average_retwwet_counts', fontsize = 20)\n",
    "plt.xlabel('dog_rates', fontsize = 20)"
   ]
  },
  {
   "cell_type": "markdown",
   "metadata": {},
   "source": [
    "从图中观察，我们发现总体上，评分高的狗狗得到的相应多的转发数"
   ]
  },
  {
   "cell_type": "markdown",
   "metadata": {},
   "source": [
    "##### 4. 数据中狗狗评分的高低和所处于的地位有什么关系？"
   ]
  },
  {
   "cell_type": "code",
   "execution_count": null,
   "metadata": {},
   "outputs": [],
   "source": [
    "df_updates_copy['status'].value_counts()"
   ]
  },
  {
   "cell_type": "code",
   "execution_count": null,
   "metadata": {},
   "outputs": [],
   "source": [
    "data_to_delete_index2 = df_updates_copy[df_updates_copy['status'] == 'None'].index"
   ]
  },
  {
   "cell_type": "code",
   "execution_count": null,
   "metadata": {},
   "outputs": [],
   "source": [
    "df_updates_copy.drop(index = data_to_delete_index2, inplace = True)"
   ]
  },
  {
   "cell_type": "code",
   "execution_count": null,
   "metadata": {},
   "outputs": [],
   "source": [
    "temporary_3 = df_updates_copy[['status', 'rates_final']]"
   ]
  },
  {
   "cell_type": "code",
   "execution_count": null,
   "metadata": {},
   "outputs": [],
   "source": [
    "temporary_3"
   ]
  },
  {
   "cell_type": "code",
   "execution_count": null,
   "metadata": {
    "scrolled": true
   },
   "outputs": [],
   "source": [
    "temporary_3.groupby('rates_final')['status'].value_counts()"
   ]
  },
  {
   "cell_type": "code",
   "execution_count": null,
   "metadata": {},
   "outputs": [],
   "source": [
    "size=temporary_3.groupby('rates_final')['status'].value_counts()\n",
    "n=20"
   ]
  },
  {
   "cell_type": "code",
   "execution_count": null,
   "metadata": {},
   "outputs": [],
   "source": [
    "plt.figure(figsize=(12,8))\n",
    "plt.xlabel('rates_final',fontsize= 15)\n",
    "plt.ylabel('status',fontsize= 15)\n",
    "plt.scatter(df_updates_copy['rates_final'],df_updates_copy['status'],s=size*n,alpha=0.6)\n",
    "plt.show()\n"
   ]
  },
  {
   "cell_type": "markdown",
   "metadata": {},
   "source": [
    "观察数据发现，数据中狗狗评分的高低和所处于的地位关系不大，评分中的地位大多被pupper和doggo占据,评分高的狗狗，处于doggo地位更多。"
   ]
  },
  {
   "cell_type": "markdown",
   "metadata": {},
   "source": [
    "#### 得出结论"
   ]
  },
  {
   "cell_type": "markdown",
   "metadata": {},
   "source": [
    "1. 在一天中的哪个时段，发推文的用户比较多？   \n",
    "    凌晨时段和下午傍晚时段。"
   ]
  },
  {
   "cell_type": "markdown",
   "metadata": {},
   "source": [
    "2. 哪些种类的狗狗获得了较高的转发数？        \n",
    "    golden_retriever得到了最多的转发数。"
   ]
  },
  {
   "cell_type": "markdown",
   "metadata": {},
   "source": [
    "3. 得到了高评分的狗狗得到的转发数就一定多吗？<br/> \n",
    "    总体上，评分高的狗狗得到的相应多的转发数。"
   ]
  },
  {
   "cell_type": "markdown",
   "metadata": {},
   "source": [
    "4. 数据中狗狗评分的高低和所处于的地位有什么关系？<br/>\n",
    "    关系不大，评分中的地位大多被pupper和doggo占据，评分高的狗狗，处于doggo地位更多。"
   ]
  }
 ],
 "metadata": {
  "kernelspec": {
   "display_name": "Python 3",
   "language": "python",
   "name": "python3"
  },
  "language_info": {
   "codemirror_mode": {
    "name": "ipython",
    "version": 3
   },
   "file_extension": ".py",
   "mimetype": "text/x-python",
   "name": "python",
   "nbconvert_exporter": "python",
   "pygments_lexer": "ipython3",
   "version": "3.6.8"
  }
 },
 "nbformat": 4,
 "nbformat_minor": 2
}
